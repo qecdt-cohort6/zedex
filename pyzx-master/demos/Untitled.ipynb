{
 "cells": [
  {
   "cell_type": "code",
   "execution_count": null,
   "metadata": {},
   "outputs": [],
   "source": [
    "temp string = \",[\"cc\",5],[\"s\",0,5],[\"s\",9,7],[\"s\",11,9],[\"s\",13,11],[\"rq\",0],[\"u\",8,[2],0],[\"s\",8,20]]\"\n",
    "\n",
    "[\"s\",9,7],[\"s\",11,9],[\"s\",13,11]]\n",
    "\n",
    "\n",
    ",[\"rq\",0],[\"u\",8,[2],0],[\"s\",8,20]]\n",
    "\n",
    "\n",
    ",[\"s\",9,7],[\"s\",11,9],[\"s\",13,11]\n",
    "\n",
    ",[\"s\",0,5]\n",
    "\n",
    "ibmq_16_melbourne = {\n",
    "            \"qubits\":{\n",
    "            \"0\":{\"fideliy\":\"4.905E-4\"},\n",
    "            \"1\":{\"fideliy\":\"1.064E-3\"},\n",
    "            \"2\":{\"fideliy\":\"5.315E-4\"},\n",
    "            \"3\":{\"fideliy\":\"5.906E-4\"},\n",
    "            \"4\":{\"fideliy\":\"6.344E-4\"},\n",
    "            \"5\":{\"fideliy\":\"2.217E-3\"},\n",
    "            \"6\":{\"fideliy\":\"1.510E-3\"},\n",
    "            \"7\":{\"fideliy\":\"1.989E-3\"},\n",
    "            \"8\":{\"fideliy\":\"9.986E-4\"},\n",
    "            \"9\":{\"fideliy\":\"2.149E-3\"},\n",
    "            \"10\":{\"fideliy\":\"2.632E-3\"},\n",
    "            \"11\":{\"fideliy\":\"9.882E-4\"},\n",
    "            \"12\":{\"fideliy\":\"1.399E-3\"},\n",
    "            \"13\":{\"fideliy\":\"1.662E-3\"},\n",
    "            \"14\":{\"fideliy\":\"7.760E-4\"}\n",
    "            },\n",
    "        \n",
    "            \"connections\":[\n",
    "            {\"source\":\"0\", \"target\":\"1\", \"fidelity\":\"1.922E-2\"},\n",
    "            {\"source\":\"1\", \"target\":\"2\", \"fidelity\":\"1.501E-2\"},\n",
    "            {\"source\":\"2\", \"target\":\"3\", \"fidelity\":\"2.366E-2\"},\n",
    "            {\"source\":\"3\", \"target\":\"4\", \"fidelity\":\"1.669E-2\"},\n",
    "            {\"source\":\"4\", \"target\":\"5\", \"fidelity\":\"2.899E-2\"},\n",
    "            {\"source\":\"5\", \"target\":\"6\", \"fidelity\":\"5.361E-2\"},\n",
    "            {\"source\":\"0\", \"target\":\"14\", \"fidelity\":\"3.452E-2\"},\n",
    "            {\"source\":\"1\", \"target\":\"13\", \"fidelity\":\"4.366E-2\"},\n",
    "            {\"source\":\"2\", \"target\":\"12\", \"fidelity\":\"7.133E-2\"},\n",
    "            {\"source\":\"3\", \"target\":\"11\", \"fidelity\":\"4.214E-2\"},\n",
    "            {\"source\":\"4\", \"target\":\"10\", \"fidelity\":\"3.960E-2\"},\n",
    "            {\"source\":\"5\", \"target\":\"9\", \"fidelity\":\"3.976E-2\"},\n",
    "            {\"source\":\"6\", \"target\":\"8\", \"fidelity\":\"6.480E-2\"},\n",
    "            {\"source\":\"7\", \"target\":\"8\", \"fidelity\":\"5.661E-2\"},\n",
    "            {\"source\":\"8\", \"target\":\"9\", \"fidelity\":\"5.160E-2\"},\n",
    "            {\"source\":\"9\", \"target\":\"10\", \"fidelity\":\"4.849E-2\"},\n",
    "            {\"source\":\"10\", \"target\":\"11\", \"fidelity\":\"3.428E-2\"},\n",
    "            {\"source\":\"11\", \"target\":\"12\", \"fidelity\":\"2.444E-2\"},\n",
    "            {\"source\":\"12\", \"target\":\"13\", \"fidelity\":\"2.808E-2\"},\n",
    "            {\"source\":\"13\", \"target\":\"14\", \"fidelity\":\"3.452E-2\"}]}"
   ]
  }
 ],
 "metadata": {
  "kernelspec": {
   "display_name": "Python 3",
   "language": "python",
   "name": "python3"
  },
  "language_info": {
   "codemirror_mode": {
    "name": "ipython",
    "version": 3
   },
   "file_extension": ".py",
   "mimetype": "text/x-python",
   "name": "python",
   "nbconvert_exporter": "python",
   "pygments_lexer": "ipython3",
   "version": "3.7.6"
  }
 },
 "nbformat": 4,
 "nbformat_minor": 4
}
