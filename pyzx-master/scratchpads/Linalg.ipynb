{
 "cells": [
  {
   "cell_type": "code",
   "execution_count": 1,
   "metadata": {},
   "outputs": [],
   "source": [
    "%load_ext autoreload\n",
    "%autoreload 2"
   ]
  },
  {
   "cell_type": "code",
   "execution_count": 1,
   "metadata": {},
   "outputs": [],
   "source": [
    "import math\n",
    "import sys\n",
    "sys.path.append('..')\n",
    "import pyzx as zx\n",
    "from pyzx.linalg import Mat2"
   ]
  },
  {
   "cell_type": "code",
   "execution_count": 6,
   "metadata": {},
   "outputs": [],
   "source": [
    "from pyzx.linalg import *\n",
    "import numpy as np"
   ]
  },
  {
   "cell_type": "code",
   "execution_count": 14,
   "metadata": {},
   "outputs": [
    {
     "name": "stdout",
     "output_type": "stream",
     "text": [
      "81.1 ms ± 431 µs per loop (mean ± std. dev. of 7 runs, 10 loops each)\n"
     ]
    }
   ],
   "source": [
    "l = np.random.randint(2,size=[1100,100],dtype=\"uint8\")\n",
    "%timeit l2 = l.tolist(); gauss_fast(l2,True)"
   ]
  },
  {
   "cell_type": "code",
   "execution_count": 15,
   "metadata": {},
   "outputs": [
    {
     "name": "stdout",
     "output_type": "stream",
     "text": [
      "157 ms ± 2.8 ms per loop (mean ± std. dev. of 7 runs, 10 loops each)\n"
     ]
    }
   ],
   "source": [
    "%timeit l2=l.tolist(); a=Mat2(l2); a.gauss(full_reduce=True)"
   ]
  },
  {
   "cell_type": "code",
   "execution_count": 3,
   "metadata": {},
   "outputs": [],
   "source": [
    "m1 = Mat2([[1,0],\n",
    "           [1,1]])\n",
    "m2 = Mat2([[1,1],\n",
    "           [1,1]])\n",
    "m3 = Mat2([[1,0,1,1,0],\n",
    "           [1,1,1,0,0],\n",
    "           [1,1,0,0,1],\n",
    "           [0,1,0,1,0],\n",
    "           [0,0,1,1,0]])\n",
    "m4 = Mat2([[1,0,1,0,0],\n",
    "           [0,1,1,0,0],\n",
    "           [1,1,0,0,1],\n",
    "           [0,1,0,1,0],\n",
    "           [0,0,0,1,1]])"
   ]
  },
  {
   "cell_type": "code",
   "execution_count": 3,
   "metadata": {},
   "outputs": [
    {
     "data": {
      "text/plain": [
       "True"
      ]
     },
     "execution_count": 3,
     "metadata": {},
     "output_type": "execute_result"
    }
   ],
   "source": [
    "result = Mat2([[1,1],[0,0]])\n",
    "m1 * m2 == result"
   ]
  },
  {
   "cell_type": "code",
   "execution_count": 12,
   "metadata": {},
   "outputs": [
    {
     "data": {
      "text/plain": [
       "[ 1  0  0  0  0 ]\n",
       "[ 0  1  0  0  1 ]\n",
       "[ 1  0  1  0  1 ]\n",
       "[ 0  0  0  1  1 ]\n",
       "[ 0  0  0  0  1 ]"
      ]
     },
     "execution_count": 12,
     "metadata": {},
     "output_type": "execute_result"
    }
   ],
   "source": [
    "m3c = m3.copy()\n",
    "m3c.gauss(full_reduce=True)\n",
    "m3c.data[2][0] = 1\n",
    "m3c.data[4][4] = 1\n",
    "m3c"
   ]
  },
  {
   "cell_type": "code",
   "execution_count": 13,
   "metadata": {},
   "outputs": [
    {
     "name": "stdout",
     "output_type": "stream",
     "text": [
      "AAAHHH\n"
     ]
    }
   ],
   "source": [
    "for i in range(m3c.rows()):\n",
    "    for j in range(min(m3c.cols(),i)):\n",
    "        if m3c.data[i][j]: print(\"AAAHHH\")"
   ]
  },
  {
   "cell_type": "code",
   "execution_count": 5,
   "metadata": {},
   "outputs": [
    {
     "name": "stdout",
     "output_type": "stream",
     "text": [
      "rank 4 < 5 rows\n",
      "\n",
      "None \n",
      "\n"
     ]
    }
   ],
   "source": [
    "print('rank', m3.rank(), '<', m3.rows(), 'rows\\n')\n",
    "print(m3.inverse(), '\\n')"
   ]
  },
  {
   "cell_type": "code",
   "execution_count": 6,
   "metadata": {},
   "outputs": [
    {
     "name": "stdout",
     "output_type": "stream",
     "text": [
      "rank 5 = 5 rows\n",
      "\n",
      "[ 0  0  1  1  1 ]\n",
      "[ 1  1  1  1  1 ]\n",
      "[ 1  0  1  1  1 ]\n",
      "[ 1  1  1  0  1 ]\n",
      "[ 1  1  1  0  0 ] \n",
      "\n",
      "[ 1  0  0  0  0 ]\n",
      "[ 0  1  0  0  0 ]\n",
      "[ 0  0  1  0  0 ]\n",
      "[ 0  0  0  1  0 ]\n",
      "[ 0  0  0  0  1 ] \n",
      "\n",
      "[ 1  0  0  0  0 ]\n",
      "[ 0  1  0  0  0 ]\n",
      "[ 0  0  1  0  0 ]\n",
      "[ 0  0  0  1  0 ]\n",
      "[ 0  0  0  0  1 ] \n",
      "\n"
     ]
    }
   ],
   "source": [
    "print('rank', m4.rank(), '=', m4.rows(), 'rows\\n')\n",
    "print(m4.inverse(), '\\n')\n",
    "print(m4 * m4.inverse(), '\\n')\n",
    "print(m4.inverse() * m4, '\\n')"
   ]
  },
  {
   "cell_type": "code",
   "execution_count": 20,
   "metadata": {},
   "outputs": [
    {
     "name": "stdout",
     "output_type": "stream",
     "text": [
      "trying:\n",
      "[ 1 ]\n",
      "[ 1 ]\n",
      "[ 1 ]\n",
      "[ 1 ]\n",
      "[ 1 ] \n",
      "\n",
      "solution:\n",
      "None \n",
      "\n",
      "trying:\n",
      "[ 1 ]\n",
      "[ 1 ]\n",
      "[ 0 ]\n",
      "[ 0 ]\n",
      "[ 0 ] \n",
      "\n",
      "solution:\n",
      "[ 1 ]\n",
      "[ 1 ]\n",
      "[ 1 ]\n",
      "[ 1 ]\n",
      "[ 0 ] \n",
      "\n",
      "checking:\n",
      "[ 1 ]\n",
      "[ 1 ]\n",
      "[ 0 ]\n",
      "[ 0 ]\n",
      "[ 0 ] \n",
      "\n"
     ]
    }
   ],
   "source": [
    "b = Mat2([[1],[1],[1],[1],[1]])\n",
    "x = m3.solve(b)\n",
    "print('trying:\\n' + str(b), '\\n')\n",
    "print('solution:\\n' + str(x), '\\n')\n",
    "\n",
    "b = Mat2([[1],[1],[0],[0],[0]])\n",
    "x = m3.solve(b)\n",
    "print('trying:\\n' + str(b), '\\n')\n",
    "print('solution:\\n' + str(x), '\\n')\n",
    "print('checking:\\n' + str(m3 * x), '\\n')"
   ]
  },
  {
   "cell_type": "code",
   "execution_count": 8,
   "metadata": {},
   "outputs": [
    {
     "data": {
      "text/plain": [
       "[ 1 ]\n",
       "[ 0 ]\n",
       "[ 1 ]\n",
       "[ 1 ]\n",
       "[ 0 ]"
      ]
     },
     "execution_count": 8,
     "metadata": {},
     "output_type": "execute_result"
    }
   ],
   "source": [
    "b = Mat2([[1],[0],[1],[1],[0]])\n",
    "x = m4.solve(b)\n",
    "m4 * x"
   ]
  },
  {
   "cell_type": "code",
   "execution_count": 7,
   "metadata": {},
   "outputs": [
    {
     "name": "stdout",
     "output_type": "stream",
     "text": [
      "[ 1  0  0  0 ]\n",
      "[ 1  1  0  0 ]\n",
      "[ 1  1  1  0 ]\n",
      "[ 0  1  0  0 ]\n",
      "[ 0  0  1  1 ]\n",
      "\n",
      "*\n",
      "\n",
      "[ 1  0  1  1  0 ]\n",
      "[ 0  1  0  1  0 ]\n",
      "[ 0  0  1  0  1 ]\n",
      "[ 0  0  0  1  1 ]\n",
      "\n",
      "=\n",
      "\n",
      "[ 1  0  1  1  0 ]\n",
      "[ 1  1  1  0  0 ]\n",
      "[ 1  1  0  0  1 ]\n",
      "[ 0  1  0  1  0 ]\n",
      "[ 0  0  1  1  0 ]\n",
      "\n",
      "==\n",
      "\n",
      "[ 1  0  1  1  0 ]\n",
      "[ 1  1  1  0  0 ]\n",
      "[ 1  1  0  0  1 ]\n",
      "[ 0  1  0  1  0 ]\n",
      "[ 0  0  1  1  0 ]\n"
     ]
    }
   ],
   "source": [
    "mf0,mf1 = m3.factor()\n",
    "print(mf0)\n",
    "print('\\n*\\n')\n",
    "print(mf1)\n",
    "print('\\n=\\n')\n",
    "print(mf0 * mf1)\n",
    "print('\\n==\\n')\n",
    "print(m3)"
   ]
  },
  {
   "cell_type": "code",
   "execution_count": 46,
   "metadata": {},
   "outputs": [],
   "source": [
    "m = Mat2([[1, 0, 0, 0, 0, 1, 1, 0, 0, 0],\n",
    " [1, 1, 1, 1, 0, 1, 1, 1, 1, 1],\n",
    " [0, 1, 0, 1, 0, 0, 0, 1, 1, 1],\n",
    " [1, 1, 1, 1, 0, 0, 0, 1, 1, 1],\n",
    " [1, 0, 0, 1, 0, 0, 1, 0, 0, 0],\n",
    " [1, 0, 1, 0, 1, 0, 0, 0, 0, 0]])\n",
    "#m = Mat2([[1, 0, 1, 0, 0], [1, 1, 1, 1, 1], [1, 1, 0, 1, 1], [1, 1, 0, 0, 0]])"
   ]
  },
  {
   "cell_type": "code",
   "execution_count": 28,
   "metadata": {},
   "outputs": [],
   "source": [
    "def xor_rows(l1, l2):\n",
    "    return [0 if l1[i]==l2[i] else 1 for i in range(len(l1))]"
   ]
  },
  {
   "cell_type": "code",
   "execution_count": 8,
   "metadata": {},
   "outputs": [],
   "source": [
    "r = m.rows()\n",
    "c = m.cols()\n",
    "combs = {}\n",
    "for i in range(r):\n",
    "    for j in range(i+1,r):\n",
    "        combs[(i,j)] = xor_rows(m.data[i],m.data[j])"
   ]
  },
  {
   "cell_type": "code",
   "execution_count": 42,
   "metadata": {},
   "outputs": [],
   "source": [
    "def find_minimal_sums(m):\n",
    "    r = m.rows()\n",
    "    d = m.data\n",
    "    combs = {(i,):d[i] for i in range(r)}\n",
    "    while True:\n",
    "        combs2 = {}\n",
    "        for index,l in combs.items():\n",
    "            for k in range(max(index)+1,r):\n",
    "                row = xor_rows(combs[index],d[k])\n",
    "                if sum(row) == 1:\n",
    "                    return (*index,k), row\n",
    "                combs2[(*index,k)] = row\n",
    "        combs = combs2\n",
    "\n",
    "def greedy_reduction(m):\n",
    "    indices, row = find_minimal_sums(m)\n",
    "    indices = list(indices)\n",
    "    rows = {i:m.data[i] for i in indices}\n",
    "    weights = {i: sum(r) for i,r in rows.items()}\n",
    "    result = []\n",
    "    while len(indices)>1:\n",
    "        best = (0,1)\n",
    "        reduction = -1\n",
    "        for i in indices:\n",
    "            for j in indices:\n",
    "                if j <= i: continue\n",
    "                w = sum(xor_rows(rows[i],rows[j]))\n",
    "                if weights[i] - w > reduction:\n",
    "                    best = (j,i) # \"Add row j to i\"\n",
    "                    reduction = weights[i] - w\n",
    "                if weights[j] - w > reduction:\n",
    "                    best = (i,j)\n",
    "                    reduction = weights[j] - w\n",
    "        result.append(best)\n",
    "        control, target = best\n",
    "        rows[target] = xor_rows(rows[control],rows[target])\n",
    "        weights[target] = weights[target] - reduction\n",
    "        indices.remove(control)\n",
    "    return result"
   ]
  },
  {
   "cell_type": "code",
   "execution_count": 18,
   "metadata": {},
   "outputs": [],
   "source": [
    "combs3 = {}\n",
    "for index in combs:\n",
    "    for k in range(r):\n",
    "        if any(i>k for i in index): continue\n",
    "        combs3[(index[0],index[1],k)] = xor_rows(combs[index],m.data[k])"
   ]
  },
  {
   "cell_type": "code",
   "execution_count": 19,
   "metadata": {},
   "outputs": [
    {
     "name": "stdout",
     "output_type": "stream",
     "text": [
      "(0, 1, 2) [0, 0, 1, 0, 0, 0, 0, 0, 0, 0]\n",
      "(2, 3, 5) [0, 0, 0, 0, 1, 0, 0, 0, 0, 0]\n",
      "(0, 1, 3) [1, 0, 0, 0, 0, 0, 0, 0, 0, 0]\n"
     ]
    }
   ],
   "source": [
    "for index, l in combs3.items():\n",
    "    if sum(l) == 1:\n",
    "        print(index, l)"
   ]
  },
  {
   "cell_type": "code",
   "execution_count": 39,
   "metadata": {},
   "outputs": [
    {
     "data": {
      "text/plain": [
       "[0, 1, 0, 1, 0, 1, 1, 1, 1, 1]"
      ]
     },
     "execution_count": 39,
     "metadata": {},
     "output_type": "execute_result"
    }
   ],
   "source": [
    "combs3[(*[1,2],3)]"
   ]
  },
  {
   "cell_type": "code",
   "execution_count": 36,
   "metadata": {},
   "outputs": [
    {
     "data": {
      "text/plain": [
       "{(0,): 3, (0, 1): 6, (0, 2): 8, (1,): 9, (1, 2): 4, (2,): 5}"
      ]
     },
     "execution_count": 36,
     "metadata": {},
     "output_type": "execute_result"
    }
   ],
   "source": [
    "indices = (0,1,2)\n",
    "combs = {(i,):m.data[i] for i in indices}\n",
    "weights = {(i,): sum(m.data[i]) for i in indices}\n",
    "for i in indices:\n",
    "    for j in indices[i+1:]:\n",
    "        row = xor_rows(m.data[i],m.data[j])\n",
    "        combs[(i,j)] = row\n",
    "        weights[(i,j)] = sum(row)\n",
    "weights"
   ]
  },
  {
   "cell_type": "code",
   "execution_count": 57,
   "metadata": {},
   "outputs": [
    {
     "name": "stdout",
     "output_type": "stream",
     "text": [
      "row_add 2 3\n",
      "row_add 2 4\n",
      "row_add 2 5\n",
      "row_add 2 4\n",
      "row_add 2 5\n",
      "row_add 2 3\n"
     ]
    },
    {
     "data": {
      "text/plain": [
       "[ 1  0  0  0  0  1  1  0  0  0 ]\n",
       "[ 0  1  1  1  0  0  0  1  1  1 ]\n",
       "[ 0  0  1  0  0  0  0  0  0  0 ]\n",
       "[ 0  0  0  1  0  0  1  0  0  0 ]\n",
       "[ 0  0  0  0  1  0  0  0  0  0 ]\n",
       "[ 0  0  0  0  0  1  1  0  0  0 ]"
      ]
     },
     "execution_count": 57,
     "metadata": {},
     "output_type": "execute_result"
    }
   ],
   "source": [
    "class GaussPrinter:\n",
    "    def row_add(self,i,j):\n",
    "        print(\"row_add\",i,j)\n",
    "\n",
    "g = GaussPrinter()\n",
    "m.gauss(x=g)\n",
    "m"
   ]
  },
  {
   "cell_type": "code",
   "execution_count": 60,
   "metadata": {},
   "outputs": [
    {
     "name": "stdout",
     "output_type": "stream",
     "text": [
      "[ 1  0  0  0  0  0  0  1 ]\n",
      "[ 0  1  0  0  0  0  0  0 ]\n",
      "[ 0  0  1  0  0  0  0  0 ]\n",
      "[ 0  0  0  1  0  0  0  0 ]\n",
      "[ 0  0  0  0  1  0  0  0 ]\n",
      "[ 0  0  0  0  0  1  0  0 ]\n",
      "[ 0  0  0  0  0  0  1  0 ]\n",
      "[ 0  0  0  0  0  0  0  1 ]\n",
      "row_add 7 0\n"
     ]
    },
    {
     "data": {
      "text/plain": [
       "8"
      ]
     },
     "execution_count": 60,
     "metadata": {},
     "output_type": "execute_result"
    }
   ],
   "source": [
    "class CNOTPrinter:\n",
    "    def row_add(self, r1,r2):\n",
    "        print(\"row_add\", r1,r2)\n",
    "\n",
    "cn = CNOTPrinter()\n",
    "m = Mat2.id(8)\n",
    "m.data[0][7] = 1\n",
    "print(m)\n",
    "gauss(m,x=cn,blocksize=5,full_reduce=True)"
   ]
  },
  {
   "cell_type": "code",
   "execution_count": 80,
   "metadata": {},
   "outputs": [
    {
     "name": "stdout",
     "output_type": "stream",
     "text": [
      "10\n"
     ]
    },
    {
     "data": {
      "text/plain": [
       "[ 0  0  0  0  0  0  0  0  0  1  0  1  0  1  0  0  0  1  1  0  1  1  0  1  0  0  0  0  0  0  0  0  1  0 ]\n",
       "[ 0  0  0  0  0  0  0  0  0  0  1  1  0  0  0  0  0  1  1  1  0  0  0  0  0  0  0  0  0  0  1  0  0  0 ]\n",
       "[ 0  0  0  0  0  0  0  0  0  0  0  0  1  1  1  0  0  0  0  1  1  1  0  1  0  0  0  0  0  0  1  0  0  0 ]\n",
       "[ 1  1  1  1  1  1  0  1  0  1  0  0  1  1  0  1  1  0  0  1  1  1  1  0  1  1  0  1  1  1  0  1  1  1 ]\n",
       "[ 0  1  1  1  1  1  1  1  1  1  1  1  0  0  0  0  0  0  0  0  1  1  1  0  1  1  1  0  0  1  1  0  1  0 ]\n",
       "[ 0  0  0  0  0  0  0  0  0  0  0  1  0  0  0  0  0  1  1  1  0  0  0  0  0  0  0  0  0  0  0  0  1  0 ]\n",
       "[ 0  0  0  0  0  0  0  0  0  0  0  0  0  1  0  0  0  0  0  1  1  1  0  1  0  0  0  0  0  0  0  0  1  0 ]\n",
       "[ 0  0  0  0  0  0  0  0  0  0  0  0  0  0  1  0  0  0  1  1  0  0  0  0  0  0  0  0  0  0  1  0  1  0 ]\n",
       "[ 0  0  0  0  0  0  0  0  0  0  0  0  0  0  0  0  0  0  1  1  0  0  0  0  0  0  0  0  0  0  0  0  1  0 ]\n",
       "[ 0  0  0  0  0  0  0  0  0  0  0  0  0  0  0  0  0  0  0  1  0  0  0  0  0  0  0  0  0  0  1  0  0  0 ]\n",
       "[ 0  0  0  0  0  0  0  0  0  0  0  0  0  0  0  0  0  0  0  0  0  0  0  0  0  0  0  0  0  0  0  0  0  0 ]\n",
       "[ 0  0  0  0  0  0  0  0  0  0  0  0  1  1  1  0  0  0  1  0  1  0  0  1  0  0  0  0  0  0  0  0  0  0 ]\n",
       "[ 0  0  0  0  0  0  0  0  0  1  0  0  0  1  0  0  0  0  0  1  1  1  0  1  0  0  0  0  0  0  0  0  0  0 ]\n",
       "[ 0  0  0  0  0  0  0  0  0  0  0  0  1  1  1  0  0  0  0  1  1  1  0  1  0  0  0  0  0  0  0  0  0  0 ]"
      ]
     },
     "execution_count": 80,
     "metadata": {},
     "output_type": "execute_result"
    }
   ],
   "source": [
    "def reduce_bottom_rows(m, qubits):\n",
    "    cols = m.cols()\n",
    "    leading_one = {}\n",
    "    adds = []\n",
    "    for r in range(qubits):\n",
    "        while True:\n",
    "            i = next(i for i in range(cols) if m.data[r][i])\n",
    "            if i in leading_one:\n",
    "                m.row_add(leading_one[i],r)\n",
    "                adds.append((leading_one[i],r))\n",
    "            else:\n",
    "                leading_one[i] = r\n",
    "                break\n",
    "    for r in range(qubits, m.rows()):\n",
    "        while True:\n",
    "            if not any(m.data[r]): \n",
    "                return r\n",
    "            i = next(i for i in range(cols) if m.data[r][i])\n",
    "            if i not in leading_one: break\n",
    "            m.row_add(leading_one[i], r)\n",
    "            adds.append((leading_one[i],r))\n",
    "    raise Exception(\"Did not find any completely reducable row\")\n",
    "    #return adds\n",
    "print(reduce_bottom_rows(m, 10))\n",
    "m"
   ]
  },
  {
   "cell_type": "code",
   "execution_count": 101,
   "metadata": {},
   "outputs": [
    {
     "data": {
      "text/plain": [
       "[ 1  1  1  1  0  0  0  1  1  0  1 ]\n",
       "[ 1  1  0  0  1  0  0  1  0  1  1 ]\n",
       "[ 1  0  1  0  0  1  1  1  0  1  0 ]\n",
       "[ 1  0  0  1  1  0  1  0  0  0  1 ]"
      ]
     },
     "execution_count": 101,
     "metadata": {},
     "output_type": "execute_result"
    }
   ],
   "source": [
    "from pyzx.linalg import column_optimal_swap\n",
    "\n",
    "s = \"\"\"\n",
    "[ 1 1 1 1 0 0 0 1 1 0 1 ]\n",
    "[ 1 1 0 0 1 0 0 1 0 1 1 ]\n",
    "[ 1 0 1 0 0 1 1 1 0 1 0 ]\n",
    "[ 1 0 0 1 1 0 1 0 0 0 1 ]\"\"\"\n",
    "l = s.splitlines()[1:]\n",
    "l = [[int(i) for i in j[1:-1].split(\" \") if i] for j in l]\n",
    "m = Mat2(l)\n",
    "#m.gauss()\n",
    "#b = Mat2([[0],[0],[0],[0],[1],[0]])\n",
    "#m.solve(b)\n",
    "#m.gauss(full_reduce=True)\n",
    "#m*Mat2([[0],[0],[1],[0]])\n",
    "#column_optimal_swap(m)\n",
    "#cnots = m.to_cnots()\n",
    "#print([(cnot.target, cnot.control) for cnot in cnots])\n",
    "# for cnot in cnots[:8]:\n",
    "#     m.row_add(cnot.target,cnot.control)\n",
    "#m.gauss(full_reduce=True)\n",
    "m"
   ]
  },
  {
   "cell_type": "code",
   "execution_count": 8,
   "metadata": {},
   "outputs": [
    {
     "data": {
      "text/plain": [
       "[[1, 1, 1, 1, 0, 0, 0, 0],\n",
       " [0, 1, 0, 0, 1, 1, 0, 0],\n",
       " [0, 0, 1, 0, 1, 0, 1, 0],\n",
       " [1, 1, 1, 0, 1, 0, 0, 1]]"
      ]
     },
     "execution_count": 8,
     "metadata": {},
     "output_type": "execute_result"
    }
   ],
   "source": [
    "def nullspace(m):\n",
    "    m = m.copy()\n",
    "    m.gauss(full_reduce=True)\n",
    "    cols = m.cols()\n",
    "    nonpivots = list(range(cols))\n",
    "    pivots = []\n",
    "    for i, r in enumerate(m.data):\n",
    "        for j in range(i,cols):\n",
    "            if r[j]:\n",
    "                nonpivots.remove(j)\n",
    "                pivots.append(j)\n",
    "                break\n",
    "        #p = next(j for j in range(i,cols) if r[j])\n",
    "        #nonpivots.remove(p)\n",
    "        #pivots.append(p)\n",
    "    vectors = []\n",
    "    for n in nonpivots:\n",
    "        v = [0]*cols\n",
    "        v[n] = 1\n",
    "        for r, p in zip(m.data, pivots):\n",
    "            if r[n]: v[p] = 1\n",
    "        vectors.append(v)\n",
    "    return vectors\n",
    "nullspace(m)"
   ]
  },
  {
   "cell_type": "code",
   "execution_count": 102,
   "metadata": {},
   "outputs": [
    {
     "name": "stdout",
     "output_type": "stream",
     "text": [
      "7."
     ]
    },
    {
     "data": {
      "text/plain": [
       "[ 0  0  0  1 ]\n",
       "[ 0  1  1  0 ]\n",
       "[ 0  1  0  1 ]\n",
       "[ 1  1  0  1 ]"
      ]
     },
     "execution_count": 102,
     "metadata": {},
     "output_type": "execute_result"
    }
   ],
   "source": [
    "def xi(m, z):\n",
    "    rows = m.rows()\n",
    "    \n",
    "    data = []\n",
    "    for alpha in range(rows):\n",
    "        ra = m.data[alpha]\n",
    "        for beta in range(alpha+1, rows):\n",
    "            rb = m.data[beta]\n",
    "            rab = [i*j for i,j in zip(ra,rb)]\n",
    "            for gamma in range(beta+1, rows):\n",
    "                rg = m.data[gamma]\n",
    "                rag = [i*j for i,j in zip(ra,rg)]\n",
    "                rbg = [i*j for i,j in zip(rb,rg)]\n",
    "#                 print(alpha,beta,gamma)\n",
    "#                 print(z[alpha],z[beta],z[gamma])\n",
    "#                 print(rab,rag,rbg)\n",
    "                \n",
    "                if z[alpha]:\n",
    "                    if not z[beta]:\n",
    "                        if not z[gamma]:\n",
    "                            data.append(rbg)\n",
    "                            continue\n",
    "                        data.append([0 if v1==v2 else 1 for v1,v2 in zip(rbg,rab)])\n",
    "                        continue\n",
    "                    elif not z[gamma]:\n",
    "                        data.append([0 if v1==v2 else 1 for v1,v2 in zip(rbg,rag)])\n",
    "                        continue\n",
    "                    else: #z[alpha], z[beta] and z[gamma] are all true\n",
    "                        r = [0 if v1==v2 else 1 for v1,v2 in zip(rab,rag)]\n",
    "                        data.append([0 if v1==v2 else 1 for v1,v2 in zip(r,rbg)])\n",
    "                        continue\n",
    "                elif z[beta]:\n",
    "                    if z[gamma]:\n",
    "                        data.append([0 if v1==v2 else 1 for v1,v2 in zip(rab,rag)])\n",
    "                        continue\n",
    "                    data.append(rag)\n",
    "                    continue\n",
    "                elif z[gamma]:\n",
    "                    data.append(rab.copy())\n",
    "                    continue\n",
    "    for r in m.data: data.append(r.copy())            \n",
    "    return Mat2(data)\n",
    "\n",
    "def find_todd_match(m):\n",
    "    rows = m.rows()\n",
    "    cols = m.cols()\n",
    "    for a in range(cols):\n",
    "        for b in range(a+1, cols):\n",
    "            z = [0]*rows\n",
    "            for i in range(rows):\n",
    "                r = m.data[i]\n",
    "                if r[a]:\n",
    "                    if not r[b]:\n",
    "                        z[i] = 1\n",
    "                else:\n",
    "                    if r[b]:\n",
    "                        z[i] = 1\n",
    "            bigm = xi(m, z)\n",
    "            #print(bigm, '.')\n",
    "            options = bigm.nullspace(should_copy=False)\n",
    "            #print(bigm)\n",
    "            for y in options:\n",
    "                if y[a] + y[b] == 1: return a,b,z,y\n",
    "\n",
    "    return -1,-1,None,None\n",
    "\n",
    "def remove_trivial_cols(m):\n",
    "    while True:\n",
    "        newcols = m.rows()\n",
    "        for a in range(newcols):\n",
    "            if not any(m.data[a]):\n",
    "                m.data.pop(a)\n",
    "                break\n",
    "            should_break = False\n",
    "            for b in range(a+1, newcols):\n",
    "                if m.data[a] == m.data[b]:\n",
    "                    m.data.pop(b)\n",
    "                    m.data.pop(a)\n",
    "                    should_break = True\n",
    "                    break\n",
    "            if should_break: break\n",
    "        else: # Didn't break out of for-loop so didn't find any match\n",
    "            break\n",
    "    return newcols\n",
    "\n",
    "def full_todd(m):\n",
    "    startcols = m.cols()\n",
    "    a,b,z,y = find_todd_match(m)\n",
    "    if not z: return m, 0\n",
    "    m = m.transpose()\n",
    "    #odd_y = sum(y) % 2\n",
    "    for i,c in enumerate(m.data):\n",
    "        if not y[i]: continue\n",
    "        for j in range(len(c)):\n",
    "            if z[j]: c[j] = 0 if c[j] else 1\n",
    "    if sum(y) % 2 == 1:\n",
    "        m.data.append(z)\n",
    "    m.data.pop(b)\n",
    "    m.data.pop(a)\n",
    "    newcols = remove_trivial_cols(m)\n",
    "#     while True:\n",
    "#         newcols = m.rows()\n",
    "#         for a in range(newcols):\n",
    "#             if not any(m.data[a]):\n",
    "#                 m.data.pop(a)\n",
    "#                 break\n",
    "#             should_break = False\n",
    "#             for b in range(a+1, newcols):\n",
    "#                 if m.data[a] == m.data[b]:\n",
    "#                     m.data.pop(b)\n",
    "#                     m.data.pop(a)\n",
    "#                     should_break = True\n",
    "#                     break\n",
    "#             if should_break: break\n",
    "#         else: # Didn't break out of for-loop so didn't find any match\n",
    "#             break\n",
    "                \n",
    "    return m.transpose(), startcols - newcols\n",
    "\n",
    "def todd_iter(m, quiet=True):\n",
    "    m = m.transpose()\n",
    "    remove_trivial_cols(m)\n",
    "    m = m.transpose()\n",
    "    while True:\n",
    "        m, reduced = full_todd(m)\n",
    "        if not reduced:\n",
    "            return m\n",
    "        if not quiet: print(reduced, end='.')\n",
    "            \n",
    "\n",
    "#z = [0, 0, 1, 1]\n",
    "todd_iter(m, quiet=False)"
   ]
  },
  {
   "cell_type": "code",
   "execution_count": 48,
   "metadata": {},
   "outputs": [],
   "source": [
    "from pyzx.circuit import T, S, Z, CZ, ParityPhase\n",
    "from fractions import Fraction\n",
    "\n",
    "class MultiLinearPoly:\n",
    "    def __init__(self):\n",
    "        self.l = {}\n",
    "        self.q = {}\n",
    "        self.c = set()\n",
    "    \n",
    "    def add_parity(self, par, subtract=False):\n",
    "        p = []\n",
    "        mult = -1 if subtract else 1\n",
    "        for i,v in enumerate(par):\n",
    "            if v: p.append(i)\n",
    "        for a in range(len(p)):\n",
    "            v1 = p[a]\n",
    "            if v1 not in self.l: self.l[v1] = mult\n",
    "            else: self.l[v1] = (self.l[v1] + mult) % 8\n",
    "            \n",
    "            for b in range(a+1, len(p)):\n",
    "                v2 = p[b]\n",
    "                if (v1,v2) not in self.q: self.q[(v1,v2)] = 1 if subtract else 3\n",
    "                else: self.q[(v1,v2)] = (self.q[(v1,v2)] - mult) % 4\n",
    "                    \n",
    "                for c in range(b+1, len(p)):\n",
    "                    v3 = p[c]\n",
    "                    if (v1,v2,v3) not in self.c: self.c.add((v1,v2,v3))\n",
    "                    else: self.c.remove((v1,v2,v3))\n",
    "    \n",
    "    def add_par_matrix(self, a, subtract=False):\n",
    "        for col in a.transpose().data:\n",
    "            self.add_parity(col,subtract=subtract)\n",
    "    \n",
    "    def to_clifford(self):\n",
    "        gates = []\n",
    "        for t, v in self.l.items():\n",
    "            if v == 2:\n",
    "                gates.append(S(t,adjoint=False))\n",
    "            elif v == 4:\n",
    "                gates.append(Z(t))\n",
    "            elif v == 6:\n",
    "                gates.append(S(t,adjoint=True))\n",
    "            elif v != 0:\n",
    "                raise ValueError(\"PhasePoly is not Clifford\")\n",
    "        for (t1,t2), v in self.q.items():\n",
    "            if v == 2:\n",
    "                gates.append(CZ(t1,t2))\n",
    "            elif v != 0:\n",
    "                raise ValueError(\"PhasePoly is not Clifford\")\n",
    "        if self.c:\n",
    "            raise ValueError(\"PhasePoly is not Clifford\")\n",
    "        return gates\n",
    "\n",
    "def par_matrix_to_gates(a):\n",
    "    gates = []\n",
    "    phase = Fraction(1,4)\n",
    "    for col in a.transpose().data:\n",
    "        targets = [i for i,v in enumerate(col) if v]\n",
    "        if len(targets) == 1:\n",
    "            gates.append(T(targets[0]))\n",
    "        else:\n",
    "            gates.append(ParityPhase(phase, *targets))\n",
    "    return gates\n"
   ]
  },
  {
   "cell_type": "code",
   "execution_count": 41,
   "metadata": {},
   "outputs": [
    {
     "data": {
      "text/plain": [
       "[Z(0), S*(3), CZ(0,1), CZ(1,3), CZ(2,3), CZ(0,2)]"
      ]
     },
     "execution_count": 41,
     "metadata": {},
     "output_type": "execute_result"
    }
   ],
   "source": [
    "p = MultiLinearPoly()\n",
    "p.add_par_matrix(m,False)\n",
    "p.add_par_matrix(todd_iter(m),True)\n",
    "p.to_clifford()"
   ]
  },
  {
   "cell_type": "code",
   "execution_count": 112,
   "metadata": {},
   "outputs": [
    {
     "name": "stdout",
     "output_type": "stream",
     "text": [
      "[CNOT(0,1), CNOT(1,2), CNOT(2,3), ZPhase(3,phase=1/4), CNOT(2,3), CNOT(1,2), CNOT(0,1), CNOT(0,1), ZPhase(1,phase=1/4), CNOT(0,1), CNOT(0,2), ZPhase(2,phase=1/4), CNOT(0,2), CNOT(0,3), ZPhase(3,phase=1/4), CNOT(0,3), T(1), T(2), T(3), CNOT(0,1), CNOT(1,2), ZPhase(2,phase=1/4), CNOT(1,2), CNOT(0,1), T(0), CNOT(1,2), ZPhase(2,phase=1/4), CNOT(1,2), CNOT(0,1), ZPhase(1,phase=1/4), CNOT(0,1)]\n",
      "3x0 + 5x0@x1 + 7x0@x1@x2 + x0@x1@x2@x3 + 7x0@x1@x3 + 5x0@x2 + 7x0@x2@x3 + 5x0@x3 + 3x1 + 5x1@x2 + 7x1@x2@x3 + 5x1@x3 + 3x2 + 5x2@x3 + 3x3\n",
      "[x0, x1, x2, x3]\n"
     ]
    },
    {
     "data": {
      "text/plain": [
       "True"
      ]
     },
     "execution_count": 112,
     "metadata": {},
     "output_type": "execute_result"
    }
   ],
   "source": [
    "from pyzx.todd import todd_simp\n",
    "c1 = zx.Circuit(4)\n",
    "c1 = zx.Circuit.from_graph(zx.generate.circuit_identity_phasepoly())\n",
    "#for g in par_matrix_to_gates(m):\n",
    "#    c1.gates.extend(g.to_basic_gates())\n",
    "#gates = par_matrix_to_gates(m)\n",
    "print(gates)\n",
    "c2 = zx.Circuit(4)\n",
    "c2.gates = todd_simp(c1.gates,4)\n",
    "#print(todd_simp(gates,4))\n",
    "# m2 = todd_iter(m)\n",
    "# c2.gates = par_matrix_to_gates(m2)\n",
    "# p = MultiLinearPoly()\n",
    "# p.add_par_matrix(m,False)\n",
    "# p.add_par_matrix(m2,True)\n",
    "# c2.gates.extend(p.to_clifford())\n",
    "zx.compare_tensors(c1,c2)"
   ]
  },
  {
   "cell_type": "code",
   "execution_count": 113,
   "metadata": {},
   "outputs": [
    {
     "data": {
      "image/png": "[encoded data removed]",
      "text/plain": [
       "<matplotlib.figure.Figure at 0x6f09df0>"
      ]
     },
     "execution_count": 113,
     "metadata": {},
     "output_type": "execute_result"
    }
   ],
   "source": [
    "zx.draw(c1)"
   ]
  },
  {
   "cell_type": "code",
   "execution_count": 114,
   "metadata": {},
   "outputs": [
    {
     "data": {
      "image/png": "[encoded data removed]",
      "text/plain": [
       "<matplotlib.figure.Figure at 0x701d370>"
      ]
     },
     "execution_count": 114,
     "metadata": {},
     "output_type": "execute_result"
    }
   ],
   "source": [
    "zx.draw(c2)"
   ]
  },
  {
   "cell_type": "code",
   "execution_count": 9,
   "metadata": {},
   "outputs": [
    {
     "data": {
      "text/plain": [
       "{0: 4, 1: 4, 2: 4, 3: 5}"
      ]
     },
     "execution_count": 9,
     "metadata": {},
     "output_type": "execute_result"
    }
   ],
   "source": [
    "l"
   ]
  },
  {
   "cell_type": "code",
   "execution_count": 10,
   "metadata": {},
   "outputs": [
    {
     "data": {
      "text/plain": [
       "[ 1  1  1  1  0  0  0  0 ]\n",
       "[ 1  1  0  0  1  0  0  1 ]\n",
       "[ 1  0  1  0  0  1  0  1 ]\n",
       "[ 1  0  0  1  0  0  1  0 ]"
      ]
     },
     "execution_count": 10,
     "metadata": {},
     "output_type": "execute_result"
    }
   ],
   "source": [
    "m"
   ]
  },
  {
   "cell_type": "code",
   "execution_count": 91,
   "metadata": {},
   "outputs": [
    {
     "name": "stdout",
     "output_type": "stream",
     "text": [
      "Greedy reduction with 1 CNOTs\n",
      "Greedy reduction with 2 CNOTs\n",
      "Complicated phase gadget\n",
      "Greedy reduction with 1 CNOTs\n",
      "Greedy reduction with 1 CNOTs\n",
      "Greedy reduction with 1 CNOTs\n",
      "Greedy reduction with 1 CNOTs\n",
      "11/40\n",
      "Greedy reduction with 2 CNOTs\n",
      "Simple phase gadget\n",
      "Greedy reduction with 1 CNOTs\n",
      "Complicated phase gadget\n",
      "Greedy reduction with 2 CNOTs\n",
      "Greedy reduction with 1 CNOTs\n",
      "Greedy reduction with 2 CNOTs\n",
      "21/40\n",
      "Greedy reduction with 2 CNOTs\n",
      "Greedy reduction with 1 CNOTs\n",
      "Greedy reduction with 1 CNOTs\n",
      "Greedy reduction with 1 CNOTs\n",
      "Greedy reduction with 1 CNOTs\n",
      "31/40\n",
      "Greedy reduction with 1 CNOTs\n",
      "Greedy reduction with 1 CNOTs\n"
     ]
    },
    {
     "data": {
      "text/plain": [
       "True"
      ]
     },
     "execution_count": 91,
     "metadata": {},
     "output_type": "execute_result"
    }
   ],
   "source": [
    "circ = zx.generate.cliffordT(5, 400, p_t=0.2)\n",
    "g = circ.copy()\n",
    "zx.simplify.full_reduce(g)\n",
    "c = zx.extract.streaming_extract(g, quiet=False)\n",
    "zx.compare_tensors(circ.to_tensor(), c.to_tensor())"
   ]
  }
 ],
 "metadata": {
  "kernelspec": {
   "display_name": "Python 3",
   "language": "python",
   "name": "python3"
  },
  "language_info": {
   "codemirror_mode": {
    "name": "ipython",
    "version": 3
   },
   "file_extension": ".py",
   "mimetype": "text/x-python",
   "name": "python",
   "nbconvert_exporter": "python",
   "pygments_lexer": "ipython3",
   "version": "3.5.2"
  }
 },
 "nbformat": 4,
 "nbformat_minor": 2
}
