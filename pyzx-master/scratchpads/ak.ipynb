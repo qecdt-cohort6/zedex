{
 "cells": [
  {
   "cell_type": "code",
   "execution_count": 21,
   "metadata": {},
   "outputs": [],
   "source": [
    "import sys, os; sys.path.append('..')\n",
    "import pyzx as zx\n",
    "import random\n",
    "from fractions import Fraction\n",
    "%config InlineBackend.figure_format = 'svg'"
   ]
  },
  {
   "cell_type": "code",
   "execution_count": null,
   "metadata": {},
   "outputs": [],
   "source": [
    "g = zx.qasm(\"\"\"\n",
    "qreg q[3];\n",
    "\n",
    "ccz q[0],q[1],q[2];\n",
    "h q[2];\n",
    "t q[2];\n",
    "ccz q[0],q[1],q[2];\n",
    "h q[2];\n",
    "t q[1];\n",
    "ccz q[0],q[1],q[2];\n",
    "s q[2];\n",
    "ccx q[0],q[1],q[2];\n",
    "\"\"\").to_graph(zh=True)\n",
    "zx.draw(g, labels=True)"
   ]
  },
  {
   "cell_type": "code",
   "execution_count": null,
   "metadata": {},
   "outputs": [],
   "source": [
    "h = g.copy()\n",
    "zx.simplify.spider_simp(h)\n",
    "zx.hsimplify.to_hbox(h)\n",
    "m = zx.hrules.match_hpivot(h)\n",
    "print(m)\n",
    "display(zx.draw(h,labels=True))\n",
    "zx.hrules.hpivot(h,m)\n",
    "display(zx.draw(h,labels=True))"
   ]
  },
  {
   "cell_type": "code",
   "execution_count": null,
   "metadata": {},
   "outputs": [],
   "source": [
    "zx.hsimplify.hpivot_simp(g)\n",
    "zx.d3.draw(g, labels=True)"
   ]
  },
  {
   "cell_type": "code",
   "execution_count": 19,
   "metadata": {},
   "outputs": [],
   "source": [
    "qs = 10\n",
    "d = 60\n",
    "c = zx.Circuit(qs)\n",
    "p_t = 0\n",
    "p_h = 0.3\n",
    "random.seed(1338)\n",
    "for i in range(d):\n",
    "    p = random.random()\n",
    "    if p < p_h:\n",
    "        c.add_gate(zx.circuit.HAD(random.randint(0,qs-1)))\n",
    "    elif p < p_t + p_h:\n",
    "        c.add_gate(zx.circuit.T(random.randint(0,qs-1)))\n",
    "    else:\n",
    "        q = sorted(random.sample(range(qs), 3))\n",
    "        c.add_gate(zx.circuit.CCZ(q[0],q[1],q[2]))"
   ]
  },
  {
   "cell_type": "code",
   "execution_count": null,
   "metadata": {},
   "outputs": [],
   "source": [
    "zx.d3.draw(c.to_graph(zh=True))"
   ]
  },
  {
   "cell_type": "code",
   "execution_count": 20,
   "metadata": {},
   "outputs": [
    {
     "name": "stdout",
     "output_type": "stream",
     "text": [
      "spider_simp: 42. 26. 20. 12. 10. 9. 6. 1.  8 iterations\n",
      "id_simp: 4.  1 iterations\n",
      "hpivot: 1.  1 iterations\n",
      "par_hbox: 7.  1 iterations\n",
      "spider_simp: 1. 1.  2 iterations\n",
      "hpivot: 1.  1 iterations\n",
      "par_hbox: 2.  1 iterations\n"
     ]
    },
    {
     "data": {
      "text/html": [
       "\n",
       "        <div style=\"overflow:auto\" id=\"graph-output-8\"></div>\n",
       "        <script type=\"text/javascript\">\n",
       "        require.config({ baseUrl: \"../js\",\n",
       "                         paths: {d3: \"d3.v4.min\"} });\n",
       "        require(['pyzx'], function(pyzx) {\n",
       "            pyzx.showGraph('#graph-output-8',\n",
       "            JSON.parse('{\"nodes\": [{\"name\": \"0\", \"x\": 20, \"y\": 40, \"t\": 0, \"phase\": \"\"}, {\"name\": \"1\", \"x\": 20, \"y\": 60, \"t\": 0, \"phase\": \"\"}, {\"name\": \"2\", \"x\": 20, \"y\": 80, \"t\": 0, \"phase\": \"\"}, {\"name\": \"3\", \"x\": 20, \"y\": 100, \"t\": 0, \"phase\": \"\"}, {\"name\": \"4\", \"x\": 20, \"y\": 120, \"t\": 0, \"phase\": \"\"}, {\"name\": \"5\", \"x\": 20, \"y\": 140, \"t\": 0, \"phase\": \"\"}, {\"name\": \"6\", \"x\": 20, \"y\": 160, \"t\": 0, \"phase\": \"\"}, {\"name\": \"7\", \"x\": 20, \"y\": 180, \"t\": 0, \"phase\": \"\"}, {\"name\": \"8\", \"x\": 20, \"y\": 200, \"t\": 0, \"phase\": \"\"}, {\"name\": \"9\", \"x\": 20, \"y\": 220, \"t\": 0, \"phase\": \"\"}, {\"name\": \"10\", \"x\": 40, \"y\": 180, \"t\": 1, \"phase\": \"\"}, {\"name\": \"11\", \"x\": 40, \"y\": 120, \"t\": 1, \"phase\": \"\"}, {\"name\": \"12\", \"x\": 40, \"y\": 140, \"t\": 1, \"phase\": \"\"}, {\"name\": \"13\", \"x\": 60, \"y\": 130.0, \"t\": 3, \"phase\": \"\"}, {\"name\": \"14\", \"x\": 40, \"y\": 200, \"t\": 1, \"phase\": \"\"}, {\"name\": \"15\", \"x\": 40, \"y\": 60, \"t\": 1, \"phase\": \"\"}, {\"name\": \"18\", \"x\": 40, \"y\": 100, \"t\": 1, \"phase\": \"\"}, {\"name\": \"19\", \"x\": 40, \"y\": 40, \"t\": 1, \"phase\": \"\"}, {\"name\": \"26\", \"x\": 40, \"y\": 80, \"t\": 1, \"phase\": \"\"}, {\"name\": \"27\", \"x\": 40, \"y\": 220, \"t\": 1, \"phase\": \"\"}, {\"name\": \"31\", \"x\": 40, \"y\": 160, \"t\": 1, \"phase\": \"\"}, {\"name\": \"34\", \"x\": 180, \"y\": 130.0, \"t\": 3, \"phase\": \"\"}, {\"name\": \"38\", \"x\": 460, \"y\": 110.0, \"t\": 3, \"phase\": \"\"}, {\"name\": \"39\", \"x\": 920, \"y\": 140, \"t\": 1, \"phase\": \"\"}, {\"name\": \"46\", \"x\": 920, \"y\": 80, \"t\": 1, \"phase\": \"\"}, {\"name\": \"69\", \"x\": 920, \"y\": 60, \"t\": 1, \"phase\": \"\"}, {\"name\": \"73\", \"x\": 560, \"y\": 150.0, \"t\": 3, \"phase\": \"\"}, {\"name\": \"77\", \"x\": 600, \"y\": 110.0, \"t\": 3, \"phase\": \"\"}, {\"name\": \"82\", \"x\": 920, \"y\": 40, \"t\": 1, \"phase\": \"\"}, {\"name\": \"102\", \"x\": 620, \"y\": 90.0, \"t\": 3, \"phase\": \"\"}, {\"name\": \"110\", \"x\": 640, \"y\": 50.0, \"t\": 3, \"phase\": \"\"}, {\"name\": \"114\", \"x\": 660, \"y\": 50.0, \"t\": 3, \"phase\": \"\"}, {\"name\": \"118\", \"x\": 660, \"y\": 70.0, \"t\": 3, \"phase\": \"\"}, {\"name\": \"119\", \"x\": 920, \"y\": 160, \"t\": 1, \"phase\": \"\"}, {\"name\": \"123\", \"x\": 680, \"y\": 90.0, \"t\": 3, \"phase\": \"\"}, {\"name\": \"135\", \"x\": 700, \"y\": 50.0, \"t\": 3, \"phase\": \"\"}, {\"name\": \"139\", \"x\": 720, \"y\": 50.0, \"t\": 3, \"phase\": \"\"}, {\"name\": \"147\", \"x\": 740, \"y\": 50.0, \"t\": 3, \"phase\": \"\"}, {\"name\": \"151\", \"x\": 760, \"y\": 70.0, \"t\": 3, \"phase\": \"\"}, {\"name\": \"155\", \"x\": 780, \"y\": 70.0, \"t\": 3, \"phase\": \"\"}, {\"name\": \"156\", \"x\": 920, \"y\": 200, \"t\": 1, \"phase\": \"\"}, {\"name\": \"160\", \"x\": 800, \"y\": 50.0, \"t\": 3, \"phase\": \"\"}, {\"name\": \"164\", \"x\": 800, \"y\": 110.0, \"t\": 3, \"phase\": \"\"}, {\"name\": \"168\", \"x\": 820, \"y\": 50.0, \"t\": 3, \"phase\": \"\"}, {\"name\": \"172\", \"x\": 840, \"y\": 150.0, \"t\": 3, \"phase\": \"\"}, {\"name\": \"176\", \"x\": 840, \"y\": 90.0, \"t\": 3, \"phase\": \"\"}, {\"name\": \"184\", \"x\": 860, \"y\": 90.0, \"t\": 3, \"phase\": \"\"}, {\"name\": \"188\", \"x\": 860, \"y\": 70.0, \"t\": 3, \"phase\": \"\"}, {\"name\": \"193\", \"x\": 880, \"y\": 150.0, \"t\": 3, \"phase\": \"\"}, {\"name\": \"197\", \"x\": 900, \"y\": 50.0, \"t\": 3, \"phase\": \"\"}, {\"name\": \"203\", \"x\": 940, \"y\": 50.0, \"t\": 3, \"phase\": \"\"}, {\"name\": \"205\", \"x\": 960, \"y\": 40, \"t\": 0, \"phase\": \"\"}, {\"name\": \"206\", \"x\": 960, \"y\": 60, \"t\": 0, \"phase\": \"\"}, {\"name\": \"207\", \"x\": 960, \"y\": 80, \"t\": 0, \"phase\": \"\"}, {\"name\": \"208\", \"x\": 960, \"y\": 100, \"t\": 0, \"phase\": \"\"}, {\"name\": \"209\", \"x\": 960, \"y\": 120, \"t\": 0, \"phase\": \"\"}, {\"name\": \"210\", \"x\": 960, \"y\": 140, \"t\": 0, \"phase\": \"\"}, {\"name\": \"211\", \"x\": 960, \"y\": 160, \"t\": 0, \"phase\": \"\"}, {\"name\": \"212\", \"x\": 960, \"y\": 180, \"t\": 0, \"phase\": \"\"}, {\"name\": \"213\", \"x\": 960, \"y\": 200, \"t\": 0, \"phase\": \"\"}, {\"name\": \"214\", \"x\": 960, \"y\": 220, \"t\": 0, \"phase\": \"\"}, {\"name\": \"230\", \"x\": 120, \"y\": 177.0, \"t\": 3, \"phase\": \"\"}, {\"name\": \"231\", \"x\": 100, \"y\": 172.0, \"t\": 3, \"phase\": \"\"}, {\"name\": \"234\", \"x\": 80, \"y\": 158.66666666666666, \"t\": 3, \"phase\": \"\"}, {\"name\": \"239\", \"x\": 160, \"y\": 127.0, \"t\": 3, \"phase\": \"\"}, {\"name\": \"240\", \"x\": 140, \"y\": 105.33333333333333, \"t\": 3, \"phase\": \"\"}, {\"name\": \"243\", \"x\": 420, \"y\": 178.66666666666669, \"t\": 3, \"phase\": \"\"}, {\"name\": \"245\", \"x\": 160, \"y\": 142.0, \"t\": 3, \"phase\": \"\"}, {\"name\": \"246\", \"x\": 140, \"y\": 125.33333333333333, \"t\": 3, \"phase\": \"\"}, {\"name\": \"251\", \"x\": 540, \"y\": 192.0, \"t\": 3, \"phase\": \"\"}, {\"name\": \"254\", \"x\": 380, \"y\": 122.0, \"t\": 3, \"phase\": \"\"}, {\"name\": \"255\", \"x\": 420, \"y\": 98.66666666666667, \"t\": 3, \"phase\": \"\"}, {\"name\": \"263\", \"x\": 200, \"y\": 156.0, \"t\": 3, \"phase\": \"\"}, {\"name\": \"264\", \"x\": 220, \"y\": 157.0, \"t\": 3, \"phase\": \"\"}, {\"name\": \"265\", \"x\": 220, \"y\": 132.0, \"t\": 3, \"phase\": \"\"}, {\"name\": \"266\", \"x\": 240, \"y\": 116.00000000000001, \"t\": 3, \"phase\": \"\"}, {\"name\": \"267\", \"x\": 360, \"y\": 160.0, \"t\": 3, \"phase\": \"\"}, {\"name\": \"268\", \"x\": 240, \"y\": 127.99999999999999, \"t\": 3, \"phase\": \"\"}, {\"name\": \"269\", \"x\": 300, \"y\": 117.0, \"t\": 3, \"phase\": \"\"}, {\"name\": \"270\", \"x\": 260, \"y\": 152.0, \"t\": 3, \"phase\": \"\"}, {\"name\": \"271\", \"x\": 520, \"y\": 162.0, \"t\": 3, \"phase\": \"\"}, {\"name\": \"272\", \"x\": 400, \"y\": 112.0, \"t\": 3, \"phase\": \"\"}, {\"name\": \"273\", \"x\": 320, \"y\": 132.0, \"t\": 3, \"phase\": \"\"}, {\"name\": \"274\", \"x\": 280, \"y\": 122.0, \"t\": 3, \"phase\": \"\"}, {\"name\": \"275\", \"x\": 320, \"y\": 112.0, \"t\": 3, \"phase\": \"\"}, {\"name\": \"276\", \"x\": 320, \"y\": 78.66666666666667, \"t\": 3, \"phase\": \"\"}, {\"name\": \"277\", \"x\": 340, \"y\": 72.0, \"t\": 3, \"phase\": \"\"}, {\"name\": \"278\", \"x\": 480, \"y\": 127.0, \"t\": 3, \"phase\": \"\"}, {\"name\": \"279\", \"x\": 340, \"y\": 87.0, \"t\": 3, \"phase\": \"\"}, {\"name\": \"280\", \"x\": 440, \"y\": 58.666666666666664, \"t\": 3, \"phase\": \"\"}, {\"name\": \"282\", \"x\": 580, \"y\": 118.66666666666667, \"t\": 3, \"phase\": \"\"}, {\"name\": \"283\", \"x\": 500, \"y\": 67.0, \"t\": 3, \"phase\": \"\"}, {\"name\": \"292\", \"x\": 920, \"y\": 100, \"t\": 1, \"phase\": \"\"}, {\"name\": \"293\", \"x\": 920, \"y\": 120, \"t\": 1, \"phase\": \"\"}, {\"name\": \"294\", \"x\": 920, \"y\": 180, \"t\": 1, \"phase\": \"\"}, {\"name\": \"295\", \"x\": 920, \"y\": 220, \"t\": 1, \"phase\": \"\"}], \"links\": [{\"source\": \"0\", \"target\": \"19\", \"t\": 1}, {\"source\": \"1\", \"target\": \"15\", \"t\": 2}, {\"source\": \"2\", \"target\": \"26\", \"t\": 2}, {\"source\": \"3\", \"target\": \"18\", \"t\": 1}, {\"source\": \"4\", \"target\": \"11\", \"t\": 1}, {\"source\": \"5\", \"target\": \"12\", \"t\": 1}, {\"source\": \"6\", \"target\": \"31\", \"t\": 1}, {\"source\": \"7\", \"target\": \"10\", \"t\": 1}, {\"source\": \"8\", \"target\": \"14\", \"t\": 2}, {\"source\": \"9\", \"target\": \"27\", \"t\": 1}, {\"source\": \"10\", \"target\": \"13\", \"t\": 1}, {\"source\": \"10\", \"target\": \"73\", \"t\": 1}, {\"source\": \"10\", \"target\": \"110\", \"t\": 1}, {\"source\": \"10\", \"target\": \"139\", \"t\": 1}, {\"source\": \"10\", \"target\": \"176\", \"t\": 1}, {\"source\": \"10\", \"target\": \"184\", \"t\": 1}, {\"source\": \"10\", \"target\": \"230\", \"t\": 1}, {\"source\": \"10\", \"target\": \"231\", \"t\": 1}, {\"source\": \"10\", \"target\": \"234\", \"t\": 1}, {\"source\": \"10\", \"target\": \"239\", \"t\": 1}, {\"source\": \"10\", \"target\": \"245\", \"t\": 1}, {\"source\": \"10\", \"target\": \"251\", \"t\": 1}, {\"source\": \"10\", \"target\": \"254\", \"t\": 1}, {\"source\": \"10\", \"target\": \"263\", \"t\": 1}, {\"source\": \"10\", \"target\": \"264\", \"t\": 1}, {\"source\": \"10\", \"target\": \"270\", \"t\": 1}, {\"source\": \"10\", \"target\": \"274\", \"t\": 1}, {\"source\": \"10\", \"target\": \"275\", \"t\": 1}, {\"source\": \"10\", \"target\": \"39\", \"t\": 2}, {\"source\": \"10\", \"target\": \"294\", \"t\": 2}, {\"source\": \"11\", \"target\": \"13\", \"t\": 1}, {\"source\": \"11\", \"target\": \"34\", \"t\": 1}, {\"source\": \"11\", \"target\": \"102\", \"t\": 1}, {\"source\": \"11\", \"target\": \"118\", \"t\": 1}, {\"source\": \"11\", \"target\": \"188\", \"t\": 1}, {\"source\": \"11\", \"target\": \"234\", \"t\": 1}, {\"source\": \"11\", \"target\": \"263\", \"t\": 1}, {\"source\": \"11\", \"target\": \"264\", \"t\": 1}, {\"source\": \"11\", \"target\": \"265\", \"t\": 1}, {\"source\": \"11\", \"target\": \"266\", \"t\": 1}, {\"source\": \"11\", \"target\": \"267\", \"t\": 1}, {\"source\": \"11\", \"target\": \"268\", \"t\": 1}, {\"source\": \"11\", \"target\": \"271\", \"t\": 1}, {\"source\": \"11\", \"target\": \"272\", \"t\": 1}, {\"source\": \"11\", \"target\": \"274\", \"t\": 1}, {\"source\": \"11\", \"target\": \"275\", \"t\": 1}, {\"source\": \"11\", \"target\": \"276\", \"t\": 1}, {\"source\": \"11\", \"target\": \"277\", \"t\": 1}, {\"source\": \"11\", \"target\": \"278\", \"t\": 1}, {\"source\": \"11\", \"target\": \"279\", \"t\": 1}, {\"source\": \"11\", \"target\": \"282\", \"t\": 1}, {\"source\": \"11\", \"target\": \"283\", \"t\": 1}, {\"source\": \"11\", \"target\": \"293\", \"t\": 2}, {\"source\": \"12\", \"target\": \"13\", \"t\": 1}, {\"source\": \"12\", \"target\": \"34\", \"t\": 1}, {\"source\": \"12\", \"target\": \"38\", \"t\": 1}, {\"source\": \"12\", \"target\": \"39\", \"t\": 2}, {\"source\": \"14\", \"target\": \"231\", \"t\": 1}, {\"source\": \"14\", \"target\": \"234\", \"t\": 1}, {\"source\": \"14\", \"target\": \"240\", \"t\": 1}, {\"source\": \"14\", \"target\": \"243\", \"t\": 1}, {\"source\": \"14\", \"target\": \"246\", \"t\": 1}, {\"source\": \"14\", \"target\": \"255\", \"t\": 1}, {\"source\": \"14\", \"target\": \"156\", \"t\": 2}, {\"source\": \"15\", \"target\": \"273\", \"t\": 1}, {\"source\": \"15\", \"target\": \"69\", \"t\": 2}, {\"source\": \"18\", \"target\": \"38\", \"t\": 1}, {\"source\": \"18\", \"target\": \"77\", \"t\": 1}, {\"source\": \"18\", \"target\": \"102\", \"t\": 1}, {\"source\": \"18\", \"target\": \"123\", \"t\": 1}, {\"source\": \"18\", \"target\": \"155\", \"t\": 1}, {\"source\": \"18\", \"target\": \"164\", \"t\": 1}, {\"source\": \"18\", \"target\": \"176\", \"t\": 1}, {\"source\": \"18\", \"target\": \"197\", \"t\": 1}, {\"source\": \"18\", \"target\": \"203\", \"t\": 1}, {\"source\": \"18\", \"target\": \"239\", \"t\": 1}, {\"source\": \"18\", \"target\": \"240\", \"t\": 1}, {\"source\": \"18\", \"target\": \"266\", \"t\": 1}, {\"source\": \"18\", \"target\": \"269\", \"t\": 1}, {\"source\": \"18\", \"target\": \"270\", \"t\": 1}, {\"source\": \"18\", \"target\": \"277\", \"t\": 1}, {\"source\": \"18\", \"target\": \"280\", \"t\": 1}, {\"source\": \"18\", \"target\": \"292\", \"t\": 2}, {\"source\": \"19\", \"target\": \"239\", \"t\": 1}, {\"source\": \"19\", \"target\": \"240\", \"t\": 1}, {\"source\": \"19\", \"target\": \"245\", \"t\": 1}, {\"source\": \"19\", \"target\": \"246\", \"t\": 1}, {\"source\": \"19\", \"target\": \"266\", \"t\": 1}, {\"source\": \"19\", \"target\": \"268\", \"t\": 1}, {\"source\": \"19\", \"target\": \"269\", \"t\": 1}, {\"source\": \"19\", \"target\": \"277\", \"t\": 1}, {\"source\": \"19\", \"target\": \"279\", \"t\": 1}, {\"source\": \"19\", \"target\": \"280\", \"t\": 1}, {\"source\": \"19\", \"target\": \"82\", \"t\": 2}, {\"source\": \"26\", \"target\": \"265\", \"t\": 1}, {\"source\": \"26\", \"target\": \"276\", \"t\": 1}, {\"source\": \"26\", \"target\": \"46\", \"t\": 2}, {\"source\": \"27\", \"target\": \"38\", \"t\": 1}, {\"source\": \"27\", \"target\": \"230\", \"t\": 1}, {\"source\": \"27\", \"target\": \"239\", \"t\": 1}, {\"source\": \"27\", \"target\": \"245\", \"t\": 1}, {\"source\": \"27\", \"target\": \"251\", \"t\": 1}, {\"source\": \"27\", \"target\": \"254\", \"t\": 1}, {\"source\": \"27\", \"target\": \"73\", \"t\": 1}, {\"source\": \"27\", \"target\": \"77\", \"t\": 1}, {\"source\": \"27\", \"target\": \"114\", \"t\": 1}, {\"source\": \"27\", \"target\": \"147\", \"t\": 1}, {\"source\": \"27\", \"target\": \"151\", \"t\": 1}, {\"source\": \"27\", \"target\": \"164\", \"t\": 1}, {\"source\": \"27\", \"target\": \"184\", \"t\": 1}, {\"source\": \"27\", \"target\": \"193\", \"t\": 1}, {\"source\": \"27\", \"target\": \"243\", \"t\": 1}, {\"source\": \"27\", \"target\": \"203\", \"t\": 1}, {\"source\": \"27\", \"target\": \"263\", \"t\": 1}, {\"source\": \"27\", \"target\": \"264\", \"t\": 1}, {\"source\": \"27\", \"target\": \"265\", \"t\": 1}, {\"source\": \"27\", \"target\": \"266\", \"t\": 1}, {\"source\": \"27\", \"target\": \"267\", \"t\": 1}, {\"source\": \"27\", \"target\": \"268\", \"t\": 1}, {\"source\": \"27\", \"target\": \"269\", \"t\": 1}, {\"source\": \"27\", \"target\": \"270\", \"t\": 1}, {\"source\": \"27\", \"target\": \"271\", \"t\": 1}, {\"source\": \"27\", \"target\": \"272\", \"t\": 1}, {\"source\": \"27\", \"target\": \"273\", \"t\": 1}, {\"source\": \"27\", \"target\": \"278\", \"t\": 1}, {\"source\": \"27\", \"target\": \"295\", \"t\": 2}, {\"source\": \"31\", \"target\": \"34\", \"t\": 1}, {\"source\": \"31\", \"target\": \"77\", \"t\": 1}, {\"source\": \"31\", \"target\": \"230\", \"t\": 1}, {\"source\": \"31\", \"target\": \"231\", \"t\": 1}, {\"source\": \"31\", \"target\": \"245\", \"t\": 1}, {\"source\": \"31\", \"target\": \"246\", \"t\": 1}, {\"source\": \"31\", \"target\": \"263\", \"t\": 1}, {\"source\": \"31\", \"target\": \"268\", \"t\": 1}, {\"source\": \"31\", \"target\": \"274\", \"t\": 1}, {\"source\": \"31\", \"target\": \"279\", \"t\": 1}, {\"source\": \"31\", \"target\": \"119\", \"t\": 2}, {\"source\": \"39\", \"target\": \"73\", \"t\": 1}, {\"source\": \"39\", \"target\": \"118\", \"t\": 1}, {\"source\": \"39\", \"target\": \"123\", \"t\": 1}, {\"source\": \"39\", \"target\": \"139\", \"t\": 1}, {\"source\": \"39\", \"target\": \"160\", \"t\": 1}, {\"source\": \"39\", \"target\": \"172\", \"t\": 1}, {\"source\": \"39\", \"target\": \"193\", \"t\": 1}, {\"source\": \"39\", \"target\": \"210\", \"t\": 1}, {\"source\": \"39\", \"target\": \"243\", \"t\": 1}, {\"source\": \"39\", \"target\": \"263\", \"t\": 1}, {\"source\": \"39\", \"target\": \"264\", \"t\": 1}, {\"source\": \"39\", \"target\": \"265\", \"t\": 1}, {\"source\": \"39\", \"target\": \"266\", \"t\": 1}, {\"source\": \"39\", \"target\": \"267\", \"t\": 1}, {\"source\": \"39\", \"target\": \"268\", \"t\": 1}, {\"source\": \"39\", \"target\": \"269\", \"t\": 1}, {\"source\": \"39\", \"target\": \"270\", \"t\": 1}, {\"source\": \"39\", \"target\": \"271\", \"t\": 1}, {\"source\": \"39\", \"target\": \"272\", \"t\": 1}, {\"source\": \"39\", \"target\": \"273\", \"t\": 1}, {\"source\": \"39\", \"target\": \"278\", \"t\": 1}, {\"source\": \"46\", \"target\": \"102\", \"t\": 1}, {\"source\": \"46\", \"target\": \"114\", \"t\": 1}, {\"source\": \"46\", \"target\": \"123\", \"t\": 1}, {\"source\": \"46\", \"target\": \"135\", \"t\": 1}, {\"source\": \"46\", \"target\": \"155\", \"t\": 1}, {\"source\": \"46\", \"target\": \"168\", \"t\": 1}, {\"source\": \"46\", \"target\": \"176\", \"t\": 1}, {\"source\": \"46\", \"target\": \"184\", \"t\": 1}, {\"source\": \"46\", \"target\": \"207\", \"t\": 1}, {\"source\": \"46\", \"target\": \"254\", \"t\": 1}, {\"source\": \"46\", \"target\": \"255\", \"t\": 1}, {\"source\": \"46\", \"target\": \"272\", \"t\": 1}, {\"source\": \"46\", \"target\": \"283\", \"t\": 1}, {\"source\": \"69\", \"target\": \"110\", \"t\": 1}, {\"source\": \"69\", \"target\": \"118\", \"t\": 1}, {\"source\": \"69\", \"target\": \"147\", \"t\": 1}, {\"source\": \"69\", \"target\": \"151\", \"t\": 1}, {\"source\": \"69\", \"target\": \"155\", \"t\": 1}, {\"source\": \"69\", \"target\": \"160\", \"t\": 1}, {\"source\": \"69\", \"target\": \"188\", \"t\": 1}, {\"source\": \"69\", \"target\": \"206\", \"t\": 2}, {\"source\": \"69\", \"target\": \"274\", \"t\": 1}, {\"source\": \"69\", \"target\": \"275\", \"t\": 1}, {\"source\": \"69\", \"target\": \"276\", \"t\": 1}, {\"source\": \"69\", \"target\": \"277\", \"t\": 1}, {\"source\": \"69\", \"target\": \"278\", \"t\": 1}, {\"source\": \"69\", \"target\": \"279\", \"t\": 1}, {\"source\": \"69\", \"target\": \"280\", \"t\": 1}, {\"source\": \"69\", \"target\": \"282\", \"t\": 1}, {\"source\": \"69\", \"target\": \"283\", \"t\": 1}, {\"source\": \"82\", \"target\": \"110\", \"t\": 1}, {\"source\": \"82\", \"target\": \"114\", \"t\": 1}, {\"source\": \"82\", \"target\": \"135\", \"t\": 1}, {\"source\": \"82\", \"target\": \"139\", \"t\": 1}, {\"source\": \"82\", \"target\": \"147\", \"t\": 1}, {\"source\": \"82\", \"target\": \"160\", \"t\": 1}, {\"source\": \"82\", \"target\": \"168\", \"t\": 1}, {\"source\": \"82\", \"target\": \"197\", \"t\": 1}, {\"source\": \"82\", \"target\": \"203\", \"t\": 1}, {\"source\": \"82\", \"target\": \"205\", \"t\": 1}, {\"source\": \"82\", \"target\": \"254\", \"t\": 1}, {\"source\": \"82\", \"target\": \"255\", \"t\": 1}, {\"source\": \"82\", \"target\": \"272\", \"t\": 1}, {\"source\": \"82\", \"target\": \"283\", \"t\": 1}, {\"source\": \"119\", \"target\": \"135\", \"t\": 1}, {\"source\": \"119\", \"target\": \"151\", \"t\": 1}, {\"source\": \"119\", \"target\": \"172\", \"t\": 1}, {\"source\": \"119\", \"target\": \"188\", \"t\": 1}, {\"source\": \"119\", \"target\": \"211\", \"t\": 1}, {\"source\": \"156\", \"target\": \"164\", \"t\": 1}, {\"source\": \"156\", \"target\": \"168\", \"t\": 1}, {\"source\": \"156\", \"target\": \"172\", \"t\": 1}, {\"source\": \"156\", \"target\": \"193\", \"t\": 1}, {\"source\": \"156\", \"target\": \"197\", \"t\": 1}, {\"source\": \"156\", \"target\": \"213\", \"t\": 1}, {\"source\": \"156\", \"target\": \"251\", \"t\": 1}, {\"source\": \"156\", \"target\": \"271\", \"t\": 1}, {\"source\": \"156\", \"target\": \"282\", \"t\": 1}, {\"source\": \"208\", \"target\": \"292\", \"t\": 2}, {\"source\": \"209\", \"target\": \"293\", \"t\": 1}, {\"source\": \"212\", \"target\": \"294\", \"t\": 2}, {\"source\": \"214\", \"target\": \"295\", \"t\": 2}]}'), 980, 260, 20, 4.0, true, false);\n",
       "        });\n",
       "        </script>\n",
       "        "
      ],
      "text/plain": [
       "<IPython.core.display.HTML object>"
      ]
     },
     "metadata": {},
     "output_type": "display_data"
    }
   ],
   "source": [
    "g = c.to_graph(zh=True)\n",
    "zx.hsimplify.hpivot_simp(g)\n",
    "g.normalise()\n",
    "zx.d3.draw(g)"
   ]
  },
  {
   "cell_type": "code",
   "execution_count": 16,
   "metadata": {},
   "outputs": [
    {
     "data": {
      "text/plain": [
       "[16, 63]"
      ]
     },
     "execution_count": 16,
     "metadata": {},
     "output_type": "execute_result"
    }
   ],
   "source": [
    "[len([v for v in g.vertices() if g.type(v) == t]) for t in [1,3]]"
   ]
  },
  {
   "cell_type": "code",
   "execution_count": null,
   "metadata": {},
   "outputs": [],
   "source": [
    "[max([g.vertex_degree(v) for v in g.vertices() if g.type(v) == t]) for t in [1,3]]"
   ]
  },
  {
   "cell_type": "code",
   "execution_count": null,
   "metadata": {},
   "outputs": [],
   "source": [
    "zx.compare_tensors(c.to_graph(zh=True), g)"
   ]
  },
  {
   "cell_type": "code",
   "execution_count": null,
   "metadata": {},
   "outputs": [],
   "source": [
    "d = { 'a': 3, 'b': 4, 'c': 3}\n",
    "list(filter(lambda v: v > 3, d.values()))"
   ]
  },
  {
   "cell_type": "code",
   "execution_count": null,
   "metadata": {},
   "outputs": [],
   "source": [
    "a = [1,2,3]\n",
    "a.append(4)\n",
    "a"
   ]
  },
  {
   "cell_type": "code",
   "execution_count": null,
   "metadata": {},
   "outputs": [],
   "source": [
    "2**9"
   ]
  },
  {
   "cell_type": "code",
   "execution_count": 33,
   "metadata": {},
   "outputs": [
    {
     "data": {
      "text/plain": [
       "Circuit(8 qubits, 148 gates)"
      ]
     },
     "execution_count": 33,
     "metadata": {},
     "output_type": "execute_result"
    }
   ],
   "source": [
    "c1 = zx.Circuit.load('../circuits/Fast/QFT8_before')\n",
    "c1"
   ]
  },
  {
   "cell_type": "code",
   "execution_count": 44,
   "metadata": {},
   "outputs": [
    {
     "name": "stdout",
     "output_type": "stream",
     "text": [
      "spider_simp: 24. 15. 11. 10. 6. 4. 4. 3.  8 iterations\n",
      "id_simp: 8.  1 iterations\n",
      "hpivot: 1.  1 iterations\n",
      "par_hbox: 2.  1 iterations\n",
      "spider_simp: 3. 3.  2 iterations\n",
      "id_simp: 1.  1 iterations\n",
      "hpivot: 1.  1 iterations\n",
      "par_hbox: 3.  1 iterations\n",
      "spider_simp: 1.  1 iterations\n",
      "id_simp: 1.  1 iterations\n",
      "hpivot: 1.  1 iterations\n",
      "par_hbox: 6.  1 iterations\n",
      "spider_simp: 1.  1 iterations\n",
      "hpivot: 1.  1 iterations\n",
      "par_hbox: 1.  1 iterations\n",
      "hpivot: 1.  1 iterations\n",
      "par_hbox: 3.  1 iterations\n",
      "hpivot: 1.  1 iterations\n",
      "par_hbox: 9.  1 iterations\n",
      "hpivot: 1.  1 iterations\n",
      "par_hbox: 4.  1 iterations\n",
      "hpivot: 1.  1 iterations\n",
      "par_hbox: 6.  1 iterations\n",
      "id_simp: 1.  1 iterations\n",
      "hpivot: 1.  1 iterations\n",
      "par_hbox: 6.  1 iterations\n",
      "spider_simp: 1.  1 iterations\n",
      "hpivot: 1.  1 iterations\n",
      "par_hbox: 2.  1 iterations\n",
      "hpivot: 1.  1 iterations\n",
      "par_hbox: 22.  1 iterations\n",
      "hpivot: 1.  1 iterations\n",
      "par_hbox: 11.  1 iterations\n",
      "hpivot: 1.  1 iterations\n",
      "par_hbox: 3.  1 iterations\n",
      "hpivot: 1.  1 iterations\n",
      "par_hbox: 4.  1 iterations\n",
      "hpivot: 1.  1 iterations\n",
      "par_hbox: 8.  1 iterations\n",
      "id_simp: 1.  1 iterations\n",
      "hpivot: 1.  1 iterations\n",
      "par_hbox: 7.  1 iterations\n",
      "spider_simp: 1.  1 iterations\n",
      "hpivot: 1.  1 iterations\n",
      "par_hbox: 2.  1 iterations\n",
      "hpivot: 1.  1 iterations\n",
      "par_hbox: 30.  1 iterations\n",
      "hpivot: 1.  1 iterations\n",
      "par_hbox: 13.  1 iterations\n",
      "hpivot: 1.  1 iterations\n",
      "par_hbox: 3.  1 iterations\n",
      "hpivot: 1.  1 iterations\n",
      "par_hbox: 6.  1 iterations\n",
      "hpivot: 1.  1 iterations\n",
      "par_hbox: 5.  1 iterations\n",
      "hpivot: 1.  1 iterations\n",
      "par_hbox: 17.  1 iterations\n",
      "hpivot: 1.  1 iterations\n",
      "par_hbox: 4.  1 iterations\n",
      "hpivot: 1.  1 iterations\n",
      "par_hbox: 10.  1 iterations\n",
      "id_simp: 1.  1 iterations\n",
      "hpivot: 1.  1 iterations\n",
      "par_hbox: 9.  1 iterations\n",
      "spider_simp: 1.  1 iterations\n",
      "hpivot: 1.  1 iterations\n",
      "par_hbox: 2.  1 iterations\n",
      "hpivot: 1.  1 iterations\n",
      "par_hbox: 48.  1 iterations\n",
      "hpivot: 1.  1 iterations\n",
      "par_hbox: 26.  1 iterations\n",
      "hpivot: 1.  1 iterations\n",
      "par_hbox: 7.  1 iterations\n",
      "hpivot: 1.  1 iterations\n",
      "par_hbox: 7.  1 iterations\n",
      "hpivot: 1.  1 iterations\n",
      "par_hbox: 41.  1 iterations\n",
      "hpivot: 1.  1 iterations\n",
      "par_hbox: 19.  1 iterations\n",
      "hpivot: 1.  1 iterations\n",
      "par_hbox: 23.  1 iterations\n",
      "hpivot: 1.  1 iterations\n",
      "par_hbox: 11.  1 iterations\n",
      "hpivot: 1.  1 iterations\n",
      "par_hbox: 29.  1 iterations\n",
      "hpivot: 1.  1 iterations\n",
      "par_hbox: 28.  1 iterations\n",
      "hpivot: 1.  1 iterations\n",
      "par_hbox: 12.  1 iterations\n",
      "id_simp: 1.  1 iterations\n",
      "hpivot: 1.  1 iterations\n",
      "par_hbox: 11.  1 iterations\n",
      "spider_simp: 1.  1 iterations\n",
      "hpivot: 1.  1 iterations\n",
      "par_hbox: 2.  1 iterations\n",
      "hpivot: 1.  1 iterations\n",
      "par_hbox: 59.  1 iterations\n",
      "hpivot: 1.  1 iterations\n",
      "par_hbox: 27.  1 iterations\n",
      "hpivot: 1.  1 iterations\n",
      "par_hbox: 7.  1 iterations\n",
      "hpivot: 1.  1 iterations\n",
      "par_hbox: 8.  1 iterations\n",
      "hpivot: 1.  1 iterations\n",
      "par_hbox: 7.  1 iterations\n",
      "hpivot: 1.  1 iterations\n",
      "par_hbox: 46.  1 iterations\n",
      "hpivot: 1.  1 iterations\n",
      "par_hbox: 21.  1 iterations\n",
      "hpivot: 1.  1 iterations\n",
      "par_hbox: 26.  1 iterations\n",
      "hpivot: 1.  1 iterations\n",
      "par_hbox: 11.  1 iterations\n",
      "hpivot: 1.  1 iterations\n",
      "par_hbox: 57.  1 iterations\n",
      "hpivot: 1.  1 iterations\n",
      "par_hbox: 25.  1 iterations\n",
      "hpivot: 1.  1 iterations\n",
      "par_hbox: 4.  1 iterations\n",
      "hpivot: 1.  1 iterations\n",
      "par_hbox: 14.  1 iterations\n",
      "id_simp: 1.  1 iterations\n",
      "hpivot: 1.  1 iterations\n",
      "par_hbox: 13.  1 iterations\n",
      "spider_simp: 1.  1 iterations\n",
      "hpivot: 1.  1 iterations\n",
      "par_hbox: 11.  1 iterations\n",
      "hpivot: 1.  1 iterations\n",
      "par_hbox: 9.  1 iterations\n",
      "hpivot: 1.  1 iterations\n",
      "par_hbox: 7.  1 iterations\n",
      "hpivot: 1.  1 iterations\n",
      "par_hbox: 6.  1 iterations\n",
      "hpivot: 1.  1 iterations\n",
      "par_hbox: 3.  1 iterations\n",
      "Normal form: True\n"
     ]
    },
    {
     "data": {
      "text/html": [
       "\n",
       "        <div style=\"overflow:auto\" id=\"graph-output-11\"></div>\n",
       "        <script type=\"text/javascript\">\n",
       "        require.config({ baseUrl: \"../js\",\n",
       "                         paths: {d3: \"d3.v4.min\"} });\n",
       "        require(['pyzx'], function(pyzx) {\n",
       "            pyzx.showGraph('#graph-output-11',\n",
       "            JSON.parse('{\"nodes\": [{\"name\": \"0\", \"x\": 27.586206896551722, \"y\": 55.172413793103445, \"t\": 0, \"phase\": \"\"}, {\"name\": \"1\", \"x\": 27.586206896551722, \"y\": 82.75862068965517, \"t\": 0, \"phase\": \"\"}, {\"name\": \"2\", \"x\": 27.586206896551722, \"y\": 110.34482758620689, \"t\": 0, \"phase\": \"\"}, {\"name\": \"3\", \"x\": 27.586206896551722, \"y\": 137.9310344827586, \"t\": 0, \"phase\": \"\"}, {\"name\": \"4\", \"x\": 27.586206896551722, \"y\": 165.51724137931035, \"t\": 0, \"phase\": \"\"}, {\"name\": \"5\", \"x\": 27.586206896551722, \"y\": 193.10344827586206, \"t\": 0, \"phase\": \"\"}, {\"name\": \"6\", \"x\": 27.586206896551722, \"y\": 220.68965517241378, \"t\": 0, \"phase\": \"\"}, {\"name\": \"7\", \"x\": 27.586206896551722, \"y\": 248.2758620689655, \"t\": 0, \"phase\": \"\"}, {\"name\": \"10\", \"x\": 55.172413793103445, \"y\": 82.75862068965517, \"t\": 1, \"phase\": \"\\u03c0/36028797018963968\"}, {\"name\": \"26\", \"x\": 55.172413793103445, \"y\": 110.34482758620689, \"t\": 1, \"phase\": \"\"}, {\"name\": \"42\", \"x\": 55.172413793103445, \"y\": 137.9310344827586, \"t\": 1, \"phase\": \"\"}, {\"name\": \"77\", \"x\": 55.172413793103445, \"y\": 165.51724137931035, \"t\": 1, \"phase\": \"\"}, {\"name\": \"113\", \"x\": 55.172413793103445, \"y\": 193.10344827586206, \"t\": 1, \"phase\": \"\"}, {\"name\": \"156\", \"x\": 55.172413793103445, \"y\": 220.68965517241378, \"t\": 1, \"phase\": \"\"}, {\"name\": \"162\", \"x\": 55.172413793103445, \"y\": 55.172413793103445, \"t\": 1, \"phase\": \"\"}, {\"name\": \"163\", \"x\": 55.172413793103445, \"y\": 248.2758620689655, \"t\": 1, \"phase\": \"\"}, {\"name\": \"174\", \"x\": 744.8275862068965, \"y\": 82.75862068965517, \"t\": 1, \"phase\": \"\"}, {\"name\": \"181\", \"x\": 744.8275862068965, \"y\": 110.34482758620689, \"t\": 1, \"phase\": \"\"}, {\"name\": \"188\", \"x\": 744.8275862068965, \"y\": 137.9310344827586, \"t\": 1, \"phase\": \"\"}, {\"name\": \"195\", \"x\": 744.8275862068965, \"y\": 165.51724137931035, \"t\": 1, \"phase\": \"\"}, {\"name\": \"202\", \"x\": 744.8275862068965, \"y\": 193.10344827586206, \"t\": 1, \"phase\": \"\"}, {\"name\": \"209\", \"x\": 744.8275862068965, \"y\": 220.68965517241378, \"t\": 1, \"phase\": \"\\u03c0/36028797018963968\"}, {\"name\": \"212\", \"x\": 772.4137931034483, \"y\": 55.172413793103445, \"t\": 0, \"phase\": \"\"}, {\"name\": \"213\", \"x\": 772.4137931034483, \"y\": 82.75862068965517, \"t\": 0, \"phase\": \"\"}, {\"name\": \"214\", \"x\": 772.4137931034483, \"y\": 110.34482758620689, \"t\": 0, \"phase\": \"\"}, {\"name\": \"215\", \"x\": 772.4137931034483, \"y\": 137.9310344827586, \"t\": 0, \"phase\": \"\"}, {\"name\": \"216\", \"x\": 772.4137931034483, \"y\": 165.51724137931035, \"t\": 0, \"phase\": \"\"}, {\"name\": \"217\", \"x\": 772.4137931034483, \"y\": 193.10344827586206, \"t\": 0, \"phase\": \"\"}, {\"name\": \"218\", \"x\": 772.4137931034483, \"y\": 220.68965517241378, \"t\": 0, \"phase\": \"\"}, {\"name\": \"219\", \"x\": 772.4137931034483, \"y\": 248.2758620689655, \"t\": 0, \"phase\": \"\"}, {\"name\": \"9902\", \"x\": 220.68965517241378, \"y\": 140.68965517241378, \"t\": 3, \"phase\": \"\\u03c0/128\"}, {\"name\": \"9904\", \"x\": 248.2758620689655, \"y\": 85.51724137931035, \"t\": 3, \"phase\": \"\\u03c0/16\"}, {\"name\": \"9910\", \"x\": 137.9310344827586, \"y\": 57.93103448275862, \"t\": 3, \"phase\": \"\\u03c0/8\"}, {\"name\": \"9918\", \"x\": 110.34482758620689, \"y\": 57.93103448275862, \"t\": 3, \"phase\": \"4503599627370497\\u03c0/18014398509481984\"}, {\"name\": \"9924\", \"x\": 82.75862068965517, \"y\": 57.93103448275862, \"t\": 3, \"phase\": \"9007199254740991\\u03c0/18014398509481984\"}, {\"name\": \"9930\", \"x\": 468.9655172413793, \"y\": 113.10344827586205, \"t\": 3, \"phase\": \"\\u03c0/64\"}, {\"name\": \"9933\", \"x\": 331.0344827586207, \"y\": 99.3103448275862, \"t\": 3, \"phase\": \"\\u03c0/32\"}, {\"name\": \"9982\", \"x\": 441.37931034482756, \"y\": 113.10344827586205, \"t\": 3, \"phase\": \"\\u03c0/16\"}, {\"name\": \"9993\", \"x\": 303.44827586206895, \"y\": 99.3103448275862, \"t\": 3, \"phase\": \"\\u03c0/8\"}, {\"name\": \"9999\", \"x\": 193.10344827586206, \"y\": 71.72413793103448, \"t\": 3, \"phase\": \"4503599627370497\\u03c0/18014398509481984\"}, {\"name\": \"10005\", \"x\": 165.51724137931035, \"y\": 71.72413793103448, \"t\": 3, \"phase\": \"9007199254740991\\u03c0/18014398509481984\"}, {\"name\": \"10013\", \"x\": 275.8620689655172, \"y\": 154.48275862068962, \"t\": 3, \"phase\": \"\\u03c0/64\"}, {\"name\": \"10014\", \"x\": 579.3103448275862, \"y\": 126.89655172413791, \"t\": 3, \"phase\": \"\\u03c0/32\"}, {\"name\": \"10054\", \"x\": 634.4827586206897, \"y\": 140.68965517241378, \"t\": 3, \"phase\": \"\\u03c0/16\"}, {\"name\": \"10059\", \"x\": 358.6206896551724, \"y\": 168.2758620689655, \"t\": 3, \"phase\": \"\\u03c0/32\"}, {\"name\": \"10060\", \"x\": 248.2758620689655, \"y\": 85.51724137931035, \"t\": 3, \"phase\": \"9007199254740991\\u03c0/18014398509481984\"}, {\"name\": \"10069\", \"x\": 524.1379310344827, \"y\": 126.89655172413791, \"t\": 3, \"phase\": \"\\u03c0/8\"}, {\"name\": \"10077\", \"x\": 386.2068965517241, \"y\": 113.10344827586205, \"t\": 3, \"phase\": \"4503599627370497\\u03c0/18014398509481984\"}, {\"name\": \"10111\", \"x\": 413.7931034482758, \"y\": 182.06896551724137, \"t\": 3, \"phase\": \"\\u03c0/16\"}, {\"name\": \"10113\", \"x\": 579.3103448275862, \"y\": 140.68965517241378, \"t\": 3, \"phase\": \"4503599627370497\\u03c0/18014398509481984\"}, {\"name\": \"10119\", \"x\": 662.0689655172414, \"y\": 154.48275862068962, \"t\": 3, \"phase\": \"\\u03c0/8\"}, {\"name\": \"10127\", \"x\": 441.37931034482756, \"y\": 126.89655172413791, \"t\": 3, \"phase\": \"9007199254740991\\u03c0/18014398509481984\"}, {\"name\": \"10157\", \"x\": 689.655172413793, \"y\": 168.2758620689655, \"t\": 3, \"phase\": \"4503599627370497\\u03c0/18014398509481984\"}, {\"name\": \"10160\", \"x\": 634.4827586206897, \"y\": 154.48275862068962, \"t\": 3, \"phase\": \"9007199254740991\\u03c0/18014398509481984\"}, {\"name\": \"10172\", \"x\": 496.551724137931, \"y\": 195.8620689655172, \"t\": 3, \"phase\": \"\\u03c0/8\"}, {\"name\": \"10195\", \"x\": 717.2413793103448, \"y\": 182.06896551724137, \"t\": 3, \"phase\": \"9007199254740991\\u03c0/18014398509481984\"}, {\"name\": \"10201\", \"x\": 551.7241379310344, \"y\": 209.65517241379308, \"t\": 3, \"phase\": \"4503599627370497\\u03c0/18014398509481984\"}, {\"name\": \"10222\", \"x\": 606.8965517241379, \"y\": 223.44827586206895, \"t\": 3, \"phase\": \"9007199254740991\\u03c0/18014398509481984\"}, {\"name\": \"10233\", \"x\": 744.8275862068965, \"y\": 55.172413793103445, \"t\": 1, \"phase\": \"\"}, {\"name\": \"10234\", \"x\": 744.8275862068965, \"y\": 248.2758620689655, \"t\": 1, \"phase\": \"\"}], \"links\": [{\"source\": \"0\", \"target\": \"162\", \"t\": 2}, {\"source\": \"1\", \"target\": \"10\", \"t\": 1}, {\"source\": \"2\", \"target\": \"26\", \"t\": 1}, {\"source\": \"3\", \"target\": \"42\", \"t\": 2}, {\"source\": \"4\", \"target\": \"77\", \"t\": 1}, {\"source\": \"5\", \"target\": \"113\", \"t\": 1}, {\"source\": \"6\", \"target\": \"156\", \"t\": 1}, {\"source\": \"7\", \"target\": \"163\", \"t\": 1}, {\"source\": \"10\", \"target\": \"9924\", \"t\": 1}, {\"source\": \"10\", \"target\": \"174\", \"t\": 2}, {\"source\": \"26\", \"target\": \"9918\", \"t\": 1}, {\"source\": \"26\", \"target\": \"10005\", \"t\": 1}, {\"source\": \"26\", \"target\": \"181\", \"t\": 2}, {\"source\": \"42\", \"target\": \"9910\", \"t\": 1}, {\"source\": \"42\", \"target\": \"9999\", \"t\": 1}, {\"source\": \"42\", \"target\": \"10060\", \"t\": 1}, {\"source\": \"42\", \"target\": \"188\", \"t\": 2}, {\"source\": \"77\", \"target\": \"9904\", \"t\": 1}, {\"source\": \"77\", \"target\": \"9993\", \"t\": 1}, {\"source\": \"77\", \"target\": \"10077\", \"t\": 1}, {\"source\": \"77\", \"target\": \"10127\", \"t\": 1}, {\"source\": \"77\", \"target\": \"195\", \"t\": 2}, {\"source\": \"113\", \"target\": \"9933\", \"t\": 1}, {\"source\": \"113\", \"target\": \"9982\", \"t\": 1}, {\"source\": \"113\", \"target\": \"10069\", \"t\": 1}, {\"source\": \"113\", \"target\": \"10113\", \"t\": 1}, {\"source\": \"113\", \"target\": \"10160\", \"t\": 1}, {\"source\": \"113\", \"target\": \"202\", \"t\": 2}, {\"source\": \"156\", \"target\": \"9930\", \"t\": 1}, {\"source\": \"156\", \"target\": \"10014\", \"t\": 1}, {\"source\": \"156\", \"target\": \"10054\", \"t\": 1}, {\"source\": \"156\", \"target\": \"10119\", \"t\": 1}, {\"source\": \"156\", \"target\": \"10157\", \"t\": 1}, {\"source\": \"156\", \"target\": \"10195\", \"t\": 1}, {\"source\": \"156\", \"target\": \"209\", \"t\": 2}, {\"source\": \"162\", \"target\": \"9902\", \"t\": 1}, {\"source\": \"162\", \"target\": \"9904\", \"t\": 1}, {\"source\": \"162\", \"target\": \"9910\", \"t\": 1}, {\"source\": \"162\", \"target\": \"9918\", \"t\": 1}, {\"source\": \"162\", \"target\": \"9924\", \"t\": 1}, {\"source\": \"162\", \"target\": \"9930\", \"t\": 1}, {\"source\": \"162\", \"target\": \"9933\", \"t\": 1}, {\"source\": \"162\", \"target\": \"10233\", \"t\": 2}, {\"source\": \"163\", \"target\": \"9902\", \"t\": 1}, {\"source\": \"163\", \"target\": \"10013\", \"t\": 1}, {\"source\": \"163\", \"target\": \"10059\", \"t\": 1}, {\"source\": \"163\", \"target\": \"10111\", \"t\": 1}, {\"source\": \"163\", \"target\": \"10172\", \"t\": 1}, {\"source\": \"163\", \"target\": \"10201\", \"t\": 1}, {\"source\": \"163\", \"target\": \"10222\", \"t\": 1}, {\"source\": \"163\", \"target\": \"10234\", \"t\": 2}, {\"source\": \"174\", \"target\": \"213\", \"t\": 1}, {\"source\": \"174\", \"target\": \"9982\", \"t\": 1}, {\"source\": \"174\", \"target\": \"9993\", \"t\": 1}, {\"source\": \"174\", \"target\": \"9999\", \"t\": 1}, {\"source\": \"174\", \"target\": \"10005\", \"t\": 1}, {\"source\": \"174\", \"target\": \"10013\", \"t\": 1}, {\"source\": \"174\", \"target\": \"10014\", \"t\": 1}, {\"source\": \"181\", \"target\": \"214\", \"t\": 1}, {\"source\": \"181\", \"target\": \"10054\", \"t\": 1}, {\"source\": \"181\", \"target\": \"10059\", \"t\": 1}, {\"source\": \"181\", \"target\": \"10060\", \"t\": 1}, {\"source\": \"181\", \"target\": \"10069\", \"t\": 1}, {\"source\": \"181\", \"target\": \"10077\", \"t\": 1}, {\"source\": \"188\", \"target\": \"215\", \"t\": 1}, {\"source\": \"188\", \"target\": \"10111\", \"t\": 1}, {\"source\": \"188\", \"target\": \"10113\", \"t\": 1}, {\"source\": \"188\", \"target\": \"10119\", \"t\": 1}, {\"source\": \"188\", \"target\": \"10127\", \"t\": 1}, {\"source\": \"195\", \"target\": \"216\", \"t\": 1}, {\"source\": \"195\", \"target\": \"10157\", \"t\": 1}, {\"source\": \"195\", \"target\": \"10160\", \"t\": 1}, {\"source\": \"195\", \"target\": \"10172\", \"t\": 1}, {\"source\": \"202\", \"target\": \"217\", \"t\": 1}, {\"source\": \"202\", \"target\": \"10195\", \"t\": 1}, {\"source\": \"202\", \"target\": \"10201\", \"t\": 1}, {\"source\": \"209\", \"target\": \"218\", \"t\": 1}, {\"source\": \"209\", \"target\": \"10222\", \"t\": 1}, {\"source\": \"212\", \"target\": \"10233\", \"t\": 2}, {\"source\": \"219\", \"target\": \"10234\", \"t\": 1}]}'), 800.0, 303.44827586206895, 27.586206896551722, 5.517241379310345, true, false);\n",
       "        });\n",
       "        </script>\n",
       "        "
      ],
      "text/plain": [
       "<IPython.core.display.HTML object>"
      ]
     },
     "metadata": {},
     "output_type": "display_data"
    }
   ],
   "source": [
    "g = c1.to_graph(zh=True)\n",
    "zx.hsimplify.hpivot_simp(g)\n",
    "g.normalise()\n",
    "print(\"Normal form: \", end='')\n",
    "print(g.qubit_count() * 2 == len([v for v in g.vertices() if g.type(v) == 1]))\n",
    "zx.d3.draw(g)"
   ]
  },
  {
   "cell_type": "code",
   "execution_count": 35,
   "metadata": {},
   "outputs": [
    {
     "data": {
      "text/plain": [
       "[16, 28]"
      ]
     },
     "execution_count": 35,
     "metadata": {},
     "output_type": "execute_result"
    }
   ],
   "source": [
    "[len([v for v in g.vertices() if g.type(v) == t]) for t in [1,3]]"
   ]
  },
  {
   "cell_type": "code",
   "execution_count": 40,
   "metadata": {},
   "outputs": [
    {
     "data": {
      "text/plain": [
       "True"
      ]
     },
     "execution_count": 40,
     "metadata": {},
     "output_type": "execute_result"
    }
   ],
   "source": [
    "g.qubit_count() * 2 == len([v for v in g.vertices() if g.type(v) == 1])"
   ]
  },
  {
   "cell_type": "code",
   "execution_count": null,
   "metadata": {},
   "outputs": [],
   "source": [
    "os.path.join('..', 'circuits', 'Fast')\n",
    "for f in os.listdir(d):\n",
    "        if not os.path.isfile(os.path.join(d,f)): continue\n",
    "        if f.find('before') != -1:"
   ]
  }
 ],
 "metadata": {
  "kernelspec": {
   "display_name": "Python 3",
   "language": "python",
   "name": "python3"
  },
  "language_info": {
   "codemirror_mode": {
    "name": "ipython",
    "version": 3
   },
   "file_extension": ".py",
   "mimetype": "text/x-python",
   "name": "python",
   "nbconvert_exporter": "python",
   "pygments_lexer": "ipython3",
   "version": "3.7.3"
  }
 },
 "nbformat": 4,
 "nbformat_minor": 2
}
