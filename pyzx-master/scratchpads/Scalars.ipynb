{
 "cells": [
  {
   "cell_type": "code",
   "execution_count": 1,
   "metadata": {},
   "outputs": [],
   "source": [
    "%load_ext autoreload\n",
    "%autoreload 2"
   ]
  },
  {
   "cell_type": "code",
   "execution_count": 2,
   "metadata": {},
   "outputs": [],
   "source": [
    "import sys; sys.path.append('..')\n",
    "import random, math, os\n",
    "import pyzx as zx\n",
    "from fractions import Fraction\n",
    "from pyzx.phasepoly import circuit_phase_polynomial_blocks, optimize_block\n",
    "import numpy as np\n",
    "from math import pi, sqrt\n",
    "%config InlineBackend.figure_format = 'svg'\n",
    "zx.quantomatic.quantomatic_location = r'C:\\Users\\John\\Desktop\\Quantomatic.jar'\n",
    "zx.tikz.tikzit_location = r'C:\\Users\\John\\Documents\\tikzit\\tikzit.exe'"
   ]
  },
  {
   "cell_type": "code",
   "execution_count": 3,
   "metadata": {},
   "outputs": [
    {
     "name": "stdout",
     "output_type": "stream",
     "text": [
      "[[1.41421356+0.j 0.        +0.j]\n",
      " [1.41421356+0.j 0.        +0.j]]\n"
     ]
    },
    {
     "data": {
      "image/svg+xml": [
       "<?xml version=\"1.0\" encoding=\"utf-8\" standalone=\"no\"?>\r\n",
       "<!DOCTYPE svg PUBLIC \"-//W3C//DTD SVG 1.1//EN\"\r\n",
       "  \"http://www.w3.org/Graphics/SVG/1.1/DTD/svg11.dtd\">\r\n",
       "<!-- Created with matplotlib (http://matplotlib.org/) -->\r\n",
       "<svg height=\"158pt\" version=\"1.1\" viewBox=\"0 0 590 158\" width=\"590pt\" xmlns=\"http://www.w3.org/2000/svg\" xmlns:xlink=\"http://www.w3.org/1999/xlink\">\r\n",
       " <defs>\r\n",
       "  <style type=\"text/css\">\r\n",
       "*{stroke-linecap:butt;stroke-linejoin:round;stroke-miterlimit:100000;}\r\n",
       "  </style>\r\n",
       " </defs>\r\n",
       " <g id=\"figure_1\">\r\n",
       "  <g id=\"patch_1\">\r\n",
       "   <path d=\"M 0 158.4 \r\n",
       "L 590.4 158.4 \r\n",
       "L 590.4 0 \r\n",
       "L 0 0 \r\n",
       "z\r\n",
       "\" style=\"fill:none;\"/>\r\n",
       "  </g>\r\n",
       "  <g id=\"axes_1\">\r\n",
       "   <g id=\"line2d_1\">\r\n",
       "    <path clip-path=\"url(#pddf7c12465)\" d=\"M 223.2 82.8 \r\n",
       "L 79.2 82.8 \r\n",
       "\" style=\"fill:none;stroke:#000000;stroke-linecap:square;stroke-width:0.8;\"/>\r\n",
       "   </g>\r\n",
       "   <g id=\"line2d_2\">\r\n",
       "    <path clip-path=\"url(#pddf7c12465)\" d=\"M 367.2 82.8 \r\n",
       "L 511.2 82.8 \r\n",
       "\" style=\"fill:none;stroke:#000000;stroke-linecap:square;stroke-width:0.8;\"/>\r\n",
       "   </g>\r\n",
       "   <g id=\"patch_2\">\r\n",
       "    <path clip-path=\"url(#pddf7c12465)\" d=\"M 223.2 111.6 \r\n",
       "C 230.837849 111.6 238.1639 108.56545 243.564675 103.164675 \r\n",
       "C 248.96545 97.7639 252 90.437849 252 82.8 \r\n",
       "C 252 75.162151 248.96545 67.8361 243.564675 62.435325 \r\n",
       "C 238.1639 57.03455 230.837849 54 223.2 54 \r\n",
       "C 215.562151 54 208.2361 57.03455 202.835325 62.435325 \r\n",
       "C 197.43455 67.8361 194.4 75.162151 194.4 82.8 \r\n",
       "C 194.4 90.437849 197.43455 97.7639 202.835325 103.164675 \r\n",
       "C 208.2361 108.56545 215.562151 111.6 223.2 111.6 \r\n",
       "z\r\n",
       "\" style=\"fill:#ff0000;stroke:#000000;stroke-linejoin:miter;\"/>\r\n",
       "   </g>\r\n",
       "   <g id=\"patch_3\">\r\n",
       "    <path clip-path=\"url(#pddf7c12465)\" d=\"M 367.2 111.6 \r\n",
       "C 374.837849 111.6 382.1639 108.56545 387.564675 103.164675 \r\n",
       "C 392.96545 97.7639 396 90.437849 396 82.8 \r\n",
       "C 396 75.162151 392.96545 67.8361 387.564675 62.435325 \r\n",
       "C 382.1639 57.03455 374.837849 54 367.2 54 \r\n",
       "C 359.562151 54 352.2361 57.03455 346.835325 62.435325 \r\n",
       "C 341.43455 67.8361 338.4 75.162151 338.4 82.8 \r\n",
       "C 338.4 90.437849 341.43455 97.7639 346.835325 103.164675 \r\n",
       "C 352.2361 108.56545 359.562151 111.6 367.2 111.6 \r\n",
       "z\r\n",
       "\" style=\"fill:#008000;stroke:#000000;stroke-linejoin:miter;\"/>\r\n",
       "   </g>\r\n",
       "   <g id=\"patch_4\">\r\n",
       "    <path clip-path=\"url(#pddf7c12465)\" d=\"M 511.2 97.2 \r\n",
       "C 515.018925 97.2 518.68195 95.682725 521.382338 92.982338 \r\n",
       "C 524.082725 90.28195 525.6 86.618925 525.6 82.8 \r\n",
       "C 525.6 78.981075 524.082725 75.31805 521.382338 72.617662 \r\n",
       "C 518.68195 69.917275 515.018925 68.4 511.2 68.4 \r\n",
       "C 507.381075 68.4 503.71805 69.917275 501.017662 72.617662 \r\n",
       "C 498.317275 75.31805 496.8 78.981075 496.8 82.8 \r\n",
       "C 496.8 86.618925 498.317275 90.28195 501.017662 92.982338 \r\n",
       "C 503.71805 95.682725 507.381075 97.2 511.2 97.2 \r\n",
       "z\r\n",
       "\" style=\"stroke:#000000;stroke-linejoin:miter;\"/>\r\n",
       "   </g>\r\n",
       "   <g id=\"patch_5\">\r\n",
       "    <path clip-path=\"url(#pddf7c12465)\" d=\"M 79.2 97.2 \r\n",
       "C 83.018925 97.2 86.68195 95.682725 89.382338 92.982338 \r\n",
       "C 92.082725 90.28195 93.6 86.618925 93.6 82.8 \r\n",
       "C 93.6 78.981075 92.082725 75.31805 89.382338 72.617662 \r\n",
       "C 86.68195 69.917275 83.018925 68.4 79.2 68.4 \r\n",
       "C 75.381075 68.4 71.71805 69.917275 69.017662 72.617662 \r\n",
       "C 66.317275 75.31805 64.8 78.981075 64.8 82.8 \r\n",
       "C 64.8 86.618925 66.317275 90.28195 69.017662 92.982338 \r\n",
       "C 71.71805 95.682725 75.381075 97.2 79.2 97.2 \r\n",
       "z\r\n",
       "\" style=\"stroke:#000000;stroke-linejoin:miter;\"/>\r\n",
       "   </g>\r\n",
       "  </g>\r\n",
       " </g>\r\n",
       " <defs>\r\n",
       "  <clipPath id=\"pddf7c12465\">\r\n",
       "   <rect height=\"144.0\" width=\"576.0\" x=\"7.2\" y=\"7.200000000000017\"/>\r\n",
       "  </clipPath>\r\n",
       " </defs>\r\n",
       "</svg>\r\n"
      ],
      "text/plain": [
       "<matplotlib.figure.Figure at 0xace4910>"
      ]
     },
     "execution_count": 3,
     "metadata": {},
     "output_type": "execute_result"
    }
   ],
   "source": [
    "g = zx.Graph()\n",
    "v = g.add_vertex(2,0,1)\n",
    "w = g.add_vertex(1,0,2)\n",
    "o1 = g.add_vertex(0,0, 3)\n",
    "i1 = g.add_vertex(0,0, 0)\n",
    "#g.add_edge((v,w))\n",
    "g.add_edges([(i1,v),(w,o1)])\n",
    "g.outputs = [o1]\n",
    "g.inputs = [i1]\n",
    "\n",
    "#z = g.add_vertex(1,1,1.5)\n",
    "#g.add_edges([(v,z),(w,z),(v,w)])\n",
    "\n",
    "t = g.to_tensor()\n",
    "print(t)\n",
    "zx.draw(g)"
   ]
  },
  {
   "cell_type": "code",
   "execution_count": 4,
   "metadata": {},
   "outputs": [
    {
     "name": "stdout",
     "output_type": "stream",
     "text": [
      "[[1.41421356+0.j 0.        +0.j]\n",
      " [1.41421356+0.j 0.        +0.j]]\n"
     ]
    }
   ],
   "source": [
    "print(g.to_matrix())"
   ]
  },
  {
   "cell_type": "code",
   "execution_count": 152,
   "metadata": {},
   "outputs": [
    {
     "data": {
      "text/plain": [
       "(2, 2)"
      ]
     },
     "execution_count": 152,
     "metadata": {},
     "output_type": "execute_result"
    }
   ],
   "source": [
    "t = np.array(1)\n",
    "tensor = np.tensordot(t,id2,axes=0)\n",
    "tensor.shape\n",
    "#t.squeeze()"
   ]
  },
  {
   "cell_type": "code",
   "execution_count": 37,
   "metadata": {},
   "outputs": [
    {
     "data": {
      "text/plain": [
       "(1, 2, 1, 2)"
      ]
     },
     "execution_count": 37,
     "metadata": {},
     "output_type": "execute_result"
    }
   ],
   "source": [
    "t.shape"
   ]
  },
  {
   "cell_type": "code",
   "execution_count": 5,
   "metadata": {},
   "outputs": [
    {
     "name": "stdout",
     "output_type": "stream",
     "text": [
      "[[0.35355339+0.j 0.        +0.j 0.        +0.j 0.        +0.j]\n",
      " [0.        +0.j 0.        +0.j 0.35355339+0.j 0.        +0.j]\n",
      " [0.        +0.j 0.35355339+0.j 0.        +0.j 0.        +0.j]\n",
      " [0.        +0.j 0.        +0.j 0.        +0.j 0.35355339+0.j]]\n"
     ]
    },
    {
     "data": {
      "image/svg+xml": [
       "<?xml version=\"1.0\" encoding=\"utf-8\" standalone=\"no\"?>\r\n",
       "<!DOCTYPE svg PUBLIC \"-//W3C//DTD SVG 1.1//EN\"\r\n",
       "  \"http://www.w3.org/Graphics/SVG/1.1/DTD/svg11.dtd\">\r\n",
       "<!-- Created with matplotlib (http://matplotlib.org/) -->\r\n",
       "<svg height=\"158pt\" version=\"1.1\" viewBox=\"0 0 590 158\" width=\"590pt\" xmlns=\"http://www.w3.org/2000/svg\" xmlns:xlink=\"http://www.w3.org/1999/xlink\">\r\n",
       " <defs>\r\n",
       "  <style type=\"text/css\">\r\n",
       "*{stroke-linecap:butt;stroke-linejoin:round;stroke-miterlimit:100000;}\r\n",
       "  </style>\r\n",
       " </defs>\r\n",
       " <g id=\"figure_1\">\r\n",
       "  <g id=\"patch_1\">\r\n",
       "   <path d=\"M 0 158.4 \r\n",
       "L 590.4 158.4 \r\n",
       "L 590.4 0 \r\n",
       "L 0 0 \r\n",
       "z\r\n",
       "\" style=\"fill:none;\"/>\r\n",
       "  </g>\r\n",
       "  <g id=\"axes_1\">\r\n",
       "   <g id=\"line2d_1\">\r\n",
       "    <path clip-path=\"url(#pab16e6deee)\" d=\"M 103.2 40.8 \r\n",
       "L 199.2 40.8 \r\n",
       "\" style=\"fill:none;stroke:#000000;stroke-linecap:square;stroke-width:0.8;\"/>\r\n",
       "   </g>\r\n",
       "   <g id=\"line2d_2\">\r\n",
       "    <path clip-path=\"url(#pab16e6deee)\" d=\"M 103.2 136.8 \r\n",
       "L 199.2 136.8 \r\n",
       "\" style=\"fill:none;stroke:#000000;stroke-linecap:square;stroke-width:0.8;\"/>\r\n",
       "   </g>\r\n",
       "   <g id=\"line2d_3\">\r\n",
       "    <path clip-path=\"url(#pab16e6deee)\" d=\"M 199.2 136.8 \r\n",
       "L 199.2 40.8 \r\n",
       "\" style=\"fill:none;stroke:#000000;stroke-linecap:square;stroke-width:0.8;\"/>\r\n",
       "   </g>\r\n",
       "   <g id=\"line2d_4\">\r\n",
       "    <path clip-path=\"url(#pab16e6deee)\" d=\"M 199.2 136.8 \r\n",
       "L 295.2 136.8 \r\n",
       "\" style=\"fill:none;stroke:#000000;stroke-linecap:square;stroke-width:0.8;\"/>\r\n",
       "   </g>\r\n",
       "   <g id=\"line2d_5\">\r\n",
       "    <path clip-path=\"url(#pab16e6deee)\" d=\"M 199.2 40.8 \r\n",
       "L 295.2 40.8 \r\n",
       "\" style=\"fill:none;stroke:#000000;stroke-linecap:square;stroke-width:0.8;\"/>\r\n",
       "   </g>\r\n",
       "   <g id=\"line2d_6\">\r\n",
       "    <path clip-path=\"url(#pab16e6deee)\" d=\"M 295.2 40.8 \r\n",
       "L 295.2 136.8 \r\n",
       "\" style=\"fill:none;stroke:#000000;stroke-linecap:square;stroke-width:0.8;\"/>\r\n",
       "   </g>\r\n",
       "   <g id=\"line2d_7\">\r\n",
       "    <path clip-path=\"url(#pab16e6deee)\" d=\"M 295.2 40.8 \r\n",
       "L 391.2 40.8 \r\n",
       "\" style=\"fill:none;stroke:#000000;stroke-linecap:square;stroke-width:0.8;\"/>\r\n",
       "   </g>\r\n",
       "   <g id=\"line2d_8\">\r\n",
       "    <path clip-path=\"url(#pab16e6deee)\" d=\"M 295.2 136.8 \r\n",
       "L 391.2 136.8 \r\n",
       "\" style=\"fill:none;stroke:#000000;stroke-linecap:square;stroke-width:0.8;\"/>\r\n",
       "   </g>\r\n",
       "   <g id=\"line2d_9\">\r\n",
       "    <path clip-path=\"url(#pab16e6deee)\" d=\"M 391.2 136.8 \r\n",
       "L 487.2 136.8 \r\n",
       "\" style=\"fill:none;stroke:#000000;stroke-linecap:square;stroke-width:0.8;\"/>\r\n",
       "   </g>\r\n",
       "   <g id=\"line2d_10\">\r\n",
       "    <path clip-path=\"url(#pab16e6deee)\" d=\"M 391.2 136.8 \r\n",
       "L 391.2 40.8 \r\n",
       "\" style=\"fill:none;stroke:#000000;stroke-linecap:square;stroke-width:0.8;\"/>\r\n",
       "   </g>\r\n",
       "   <g id=\"line2d_11\">\r\n",
       "    <path clip-path=\"url(#pab16e6deee)\" d=\"M 391.2 40.8 \r\n",
       "L 487.2 40.8 \r\n",
       "\" style=\"fill:none;stroke:#000000;stroke-linecap:square;stroke-width:0.8;\"/>\r\n",
       "   </g>\r\n",
       "   <g id=\"patch_2\">\r\n",
       "    <path clip-path=\"url(#pab16e6deee)\" d=\"M 103.2 50.4 \r\n",
       "C 105.74595 50.4 108.187967 49.388483 109.988225 47.588225 \r\n",
       "C 111.788483 45.787967 112.8 43.34595 112.8 40.8 \r\n",
       "C 112.8 38.25405 111.788483 35.812033 109.988225 34.011775 \r\n",
       "C 108.187967 32.211517 105.74595 31.2 103.2 31.2 \r\n",
       "C 100.65405 31.2 98.212033 32.211517 96.411775 34.011775 \r\n",
       "C 94.611517 35.812033 93.6 38.25405 93.6 40.8 \r\n",
       "C 93.6 43.34595 94.611517 45.787967 96.411775 47.588225 \r\n",
       "C 98.212033 49.388483 100.65405 50.4 103.2 50.4 \r\n",
       "z\r\n",
       "\" style=\"stroke:#000000;stroke-linejoin:miter;\"/>\r\n",
       "   </g>\r\n",
       "   <g id=\"patch_3\">\r\n",
       "    <path clip-path=\"url(#pab16e6deee)\" d=\"M 103.2 146.4 \r\n",
       "C 105.74595 146.4 108.187967 145.388483 109.988225 143.588225 \r\n",
       "C 111.788483 141.787967 112.8 139.34595 112.8 136.8 \r\n",
       "C 112.8 134.25405 111.788483 131.812033 109.988225 130.011775 \r\n",
       "C 108.187967 128.211517 105.74595 127.2 103.2 127.2 \r\n",
       "C 100.65405 127.2 98.212033 128.211517 96.411775 130.011775 \r\n",
       "C 94.611517 131.812033 93.6 134.25405 93.6 136.8 \r\n",
       "C 93.6 139.34595 94.611517 141.787967 96.411775 143.588225 \r\n",
       "C 98.212033 145.388483 100.65405 146.4 103.2 146.4 \r\n",
       "z\r\n",
       "\" style=\"stroke:#000000;stroke-linejoin:miter;\"/>\r\n",
       "   </g>\r\n",
       "   <g id=\"patch_4\">\r\n",
       "    <path clip-path=\"url(#pab16e6deee)\" d=\"M 199.2 156 \r\n",
       "C 204.2919 156 209.175934 153.976967 212.77645 150.37645 \r\n",
       "C 216.376967 146.775934 218.4 141.8919 218.4 136.8 \r\n",
       "C 218.4 131.7081 216.376967 126.824066 212.77645 123.22355 \r\n",
       "C 209.175934 119.623033 204.2919 117.6 199.2 117.6 \r\n",
       "C 194.1081 117.6 189.224066 119.623033 185.62355 123.22355 \r\n",
       "C 182.023033 126.824066 180 131.7081 180 136.8 \r\n",
       "C 180 141.8919 182.023033 146.775934 185.62355 150.37645 \r\n",
       "C 189.224066 153.976967 194.1081 156 199.2 156 \r\n",
       "z\r\n",
       "\" style=\"fill:#ff0000;stroke:#000000;stroke-linejoin:miter;\"/>\r\n",
       "   </g>\r\n",
       "   <g id=\"patch_5\">\r\n",
       "    <path clip-path=\"url(#pab16e6deee)\" d=\"M 199.2 60 \r\n",
       "C 204.2919 60 209.175934 57.976967 212.77645 54.37645 \r\n",
       "C 216.376967 50.775934 218.4 45.8919 218.4 40.8 \r\n",
       "C 218.4 35.7081 216.376967 30.824066 212.77645 27.22355 \r\n",
       "C 209.175934 23.623033 204.2919 21.6 199.2 21.6 \r\n",
       "C 194.1081 21.6 189.224066 23.623033 185.62355 27.22355 \r\n",
       "C 182.023033 30.824066 180 35.7081 180 40.8 \r\n",
       "C 180 45.8919 182.023033 50.775934 185.62355 54.37645 \r\n",
       "C 189.224066 57.976967 194.1081 60 199.2 60 \r\n",
       "z\r\n",
       "\" style=\"fill:#008000;stroke:#000000;stroke-linejoin:miter;\"/>\r\n",
       "   </g>\r\n",
       "   <g id=\"patch_6\">\r\n",
       "    <path clip-path=\"url(#pab16e6deee)\" d=\"M 295.2 60 \r\n",
       "C 300.2919 60 305.175934 57.976967 308.77645 54.37645 \r\n",
       "C 312.376967 50.775934 314.4 45.8919 314.4 40.8 \r\n",
       "C 314.4 35.7081 312.376967 30.824066 308.77645 27.22355 \r\n",
       "C 305.175934 23.623033 300.2919 21.6 295.2 21.6 \r\n",
       "C 290.1081 21.6 285.224066 23.623033 281.62355 27.22355 \r\n",
       "C 278.023033 30.824066 276 35.7081 276 40.8 \r\n",
       "C 276 45.8919 278.023033 50.775934 281.62355 54.37645 \r\n",
       "C 285.224066 57.976967 290.1081 60 295.2 60 \r\n",
       "z\r\n",
       "\" style=\"fill:#ff0000;stroke:#000000;stroke-linejoin:miter;\"/>\r\n",
       "   </g>\r\n",
       "   <g id=\"patch_7\">\r\n",
       "    <path clip-path=\"url(#pab16e6deee)\" d=\"M 295.2 156 \r\n",
       "C 300.2919 156 305.175934 153.976967 308.77645 150.37645 \r\n",
       "C 312.376967 146.775934 314.4 141.8919 314.4 136.8 \r\n",
       "C 314.4 131.7081 312.376967 126.824066 308.77645 123.22355 \r\n",
       "C 305.175934 119.623033 300.2919 117.6 295.2 117.6 \r\n",
       "C 290.1081 117.6 285.224066 119.623033 281.62355 123.22355 \r\n",
       "C 278.023033 126.824066 276 131.7081 276 136.8 \r\n",
       "C 276 141.8919 278.023033 146.775934 281.62355 150.37645 \r\n",
       "C 285.224066 153.976967 290.1081 156 295.2 156 \r\n",
       "z\r\n",
       "\" style=\"fill:#008000;stroke:#000000;stroke-linejoin:miter;\"/>\r\n",
       "   </g>\r\n",
       "   <g id=\"patch_8\">\r\n",
       "    <path clip-path=\"url(#pab16e6deee)\" d=\"M 391.2 156 \r\n",
       "C 396.2919 156 401.175934 153.976967 404.77645 150.37645 \r\n",
       "C 408.376967 146.775934 410.4 141.8919 410.4 136.8 \r\n",
       "C 410.4 131.7081 408.376967 126.824066 404.77645 123.22355 \r\n",
       "C 401.175934 119.623033 396.2919 117.6 391.2 117.6 \r\n",
       "C 386.1081 117.6 381.224066 119.623033 377.62355 123.22355 \r\n",
       "C 374.023033 126.824066 372 131.7081 372 136.8 \r\n",
       "C 372 141.8919 374.023033 146.775934 377.62355 150.37645 \r\n",
       "C 381.224066 153.976967 386.1081 156 391.2 156 \r\n",
       "z\r\n",
       "\" style=\"fill:#ff0000;stroke:#000000;stroke-linejoin:miter;\"/>\r\n",
       "   </g>\r\n",
       "   <g id=\"patch_9\">\r\n",
       "    <path clip-path=\"url(#pab16e6deee)\" d=\"M 391.2 60 \r\n",
       "C 396.2919 60 401.175934 57.976967 404.77645 54.37645 \r\n",
       "C 408.376967 50.775934 410.4 45.8919 410.4 40.8 \r\n",
       "C 410.4 35.7081 408.376967 30.824066 404.77645 27.22355 \r\n",
       "C 401.175934 23.623033 396.2919 21.6 391.2 21.6 \r\n",
       "C 386.1081 21.6 381.224066 23.623033 377.62355 27.22355 \r\n",
       "C 374.023033 30.824066 372 35.7081 372 40.8 \r\n",
       "C 372 45.8919 374.023033 50.775934 377.62355 54.37645 \r\n",
       "C 381.224066 57.976967 386.1081 60 391.2 60 \r\n",
       "z\r\n",
       "\" style=\"fill:#008000;stroke:#000000;stroke-linejoin:miter;\"/>\r\n",
       "   </g>\r\n",
       "   <g id=\"patch_10\">\r\n",
       "    <path clip-path=\"url(#pab16e6deee)\" d=\"M 487.2 50.4 \r\n",
       "C 489.74595 50.4 492.187967 49.388483 493.988225 47.588225 \r\n",
       "C 495.788483 45.787967 496.8 43.34595 496.8 40.8 \r\n",
       "C 496.8 38.25405 495.788483 35.812033 493.988225 34.011775 \r\n",
       "C 492.187967 32.211517 489.74595 31.2 487.2 31.2 \r\n",
       "C 484.65405 31.2 482.212033 32.211517 480.411775 34.011775 \r\n",
       "C 478.611517 35.812033 477.6 38.25405 477.6 40.8 \r\n",
       "C 477.6 43.34595 478.611517 45.787967 480.411775 47.588225 \r\n",
       "C 482.212033 49.388483 484.65405 50.4 487.2 50.4 \r\n",
       "z\r\n",
       "\" style=\"stroke:#000000;stroke-linejoin:miter;\"/>\r\n",
       "   </g>\r\n",
       "   <g id=\"patch_11\">\r\n",
       "    <path clip-path=\"url(#pab16e6deee)\" d=\"M 487.2 146.4 \r\n",
       "C 489.74595 146.4 492.187967 145.388483 493.988225 143.588225 \r\n",
       "C 495.788483 141.787967 496.8 139.34595 496.8 136.8 \r\n",
       "C 496.8 134.25405 495.788483 131.812033 493.988225 130.011775 \r\n",
       "C 492.187967 128.211517 489.74595 127.2 487.2 127.2 \r\n",
       "C 484.65405 127.2 482.212033 128.211517 480.411775 130.011775 \r\n",
       "C 478.611517 131.812033 477.6 134.25405 477.6 136.8 \r\n",
       "C 477.6 139.34595 478.611517 141.787967 480.411775 143.588225 \r\n",
       "C 482.212033 145.388483 484.65405 146.4 487.2 146.4 \r\n",
       "z\r\n",
       "\" style=\"stroke:#000000;stroke-linejoin:miter;\"/>\r\n",
       "   </g>\r\n",
       "  </g>\r\n",
       " </g>\r\n",
       " <defs>\r\n",
       "  <clipPath id=\"pab16e6deee\">\r\n",
       "   <rect height=\"144.0\" width=\"576.0\" x=\"7.2\" y=\"7.200000000000017\"/>\r\n",
       "  </clipPath>\r\n",
       " </defs>\r\n",
       "</svg>\r\n"
      ],
      "text/plain": [
       "<matplotlib.figure.Figure at 0x67039b0>"
      ]
     },
     "execution_count": 5,
     "metadata": {},
     "output_type": "execute_result"
    }
   ],
   "source": [
    "c = zx.Circuit(2)\n",
    "c.add_gate(\"CNOT\",0,1)\n",
    "c.add_gate(\"CNOT\",1,0)\n",
    "c.add_gate(\"CNOT\",0,1)\n",
    "#c.add_gate(\"S\",0)\n",
    "#c.add_gate(\"XPhase\",0,phase=Fraction(1,2))\n",
    "#c.add_gate(\"S\",0)\n",
    "#c.add_circuit(c)\n",
    "#g = c.to_graph()\n",
    "#b = g.outputs.pop()\n",
    "#g.remove_vertex(b)\n",
    "t = c.to_matrix()\n",
    "print(t)\n",
    "zx.draw(c)"
   ]
  },
  {
   "cell_type": "code",
   "execution_count": 24,
   "metadata": {},
   "outputs": [
    {
     "data": {
      "text/plain": [
       "(0.7071067811865477+0j)"
      ]
     },
     "execution_count": 24,
     "metadata": {},
     "output_type": "execute_result"
    }
   ],
   "source": [
    "t[(0,0,0,0)]"
   ]
  },
  {
   "cell_type": "code",
   "execution_count": 7,
   "metadata": {},
   "outputs": [],
   "source": [
    "def tensor_to_matrix(t, inputs, outputs):\n",
    "    rows = []\n",
    "    for r in range(2**outputs):\n",
    "        o = [int(i) for i in bin(r)[2:].zfill(outputs)]\n",
    "        row = []\n",
    "        for c in range(2**inputs):\n",
    "            a = o.copy()\n",
    "            a.extend([int(i) for i in bin(c)[2:].zfill(inputs)])\n",
    "            #print(a)\n",
    "            #print(t[tuple(a)])\n",
    "            row.append(t[tuple(a)])\n",
    "        rows.append(row)\n",
    "    return np.matrix(rows)"
   ]
  },
  {
   "cell_type": "code",
   "execution_count": 12,
   "metadata": {},
   "outputs": [
    {
     "data": {
      "text/plain": [
       "matrix([[0.35355339+0.j, 0.        +0.j, 0.        +0.j, 0.        +0.j],\n",
       "        [0.        +0.j, 0.        +0.j, 0.35355339+0.j, 0.        +0.j],\n",
       "        [0.        +0.j, 0.35355339+0.j, 0.        +0.j, 0.        +0.j],\n",
       "        [0.        +0.j, 0.        +0.j, 0.        +0.j, 0.35355339+0.j]])"
      ]
     },
     "execution_count": 12,
     "metadata": {},
     "output_type": "execute_result"
    }
   ],
   "source": [
    "zx.tensor.tensor_to_matrix(t,2,2)\n",
    "#tensor_to_matrix(t,2,2)"
   ]
  },
  {
   "cell_type": "code",
   "execution_count": 10,
   "metadata": {},
   "outputs": [
    {
     "data": {
      "text/plain": [
       "matrix([[ 0.+1.j, -0.+0.j],\n",
       "        [ 0.-0.j,  0.+1.j]])"
      ]
     },
     "execution_count": 10,
     "metadata": {},
     "output_type": "execute_result"
    }
   ],
   "source": [
    "np.set_printoptions(suppress=True)\n",
    "tensor_to_matrix(t,1)"
   ]
  },
  {
   "cell_type": "code",
   "execution_count": 90,
   "metadata": {},
   "outputs": [
    {
     "data": {
      "text/plain": [
       "(0.7071067811865477+0j)"
      ]
     },
     "execution_count": 90,
     "metadata": {},
     "output_type": "execute_result"
    }
   ],
   "source": [
    "a = 3\n",
    "t[tuple(int(i) for i in '{0:04b}'.format(a))]"
   ]
  },
  {
   "cell_type": "code",
   "execution_count": 93,
   "metadata": {},
   "outputs": [
    {
     "data": {
      "text/plain": [
       "'000101'"
      ]
     },
     "execution_count": 93,
     "metadata": {},
     "output_type": "execute_result"
    }
   ],
   "source": [
    "bin(5)[2:].zfill(6)"
   ]
  },
  {
   "cell_type": "code",
   "execution_count": 99,
   "metadata": {},
   "outputs": [
    {
     "data": {
      "text/plain": [
       "((1, 4), (2, 5), (3, 6))"
      ]
     },
     "execution_count": 99,
     "metadata": {},
     "output_type": "execute_result"
    }
   ],
   "source": [
    "tuple(zip([1,2,3],[4,5,6]))"
   ]
  },
  {
   "cell_type": "code",
   "execution_count": 17,
   "metadata": {},
   "outputs": [
    {
     "data": {
      "text/plain": [
       "1.8477590650225735"
      ]
     },
     "execution_count": 17,
     "metadata": {},
     "output_type": "execute_result"
    }
   ],
   "source": [
    "z = 1 + math.cos(math.pi/4) + 1j*math.sin(math.pi/4)\n",
    "abs(z)"
   ]
  },
  {
   "cell_type": "code",
   "execution_count": 18,
   "metadata": {},
   "outputs": [
    {
     "data": {
      "text/plain": [
       "0.7653668647301796"
      ]
     },
     "execution_count": 18,
     "metadata": {},
     "output_type": "execute_result"
    }
   ],
   "source": [
    "z2 = 1 - math.cos(math.pi/4) - 1j*math.sin(math.pi/4)\n",
    "abs(z2)"
   ]
  },
  {
   "cell_type": "code",
   "execution_count": 3,
   "metadata": {},
   "outputs": [],
   "source": []
  }
 ],
 "metadata": {
  "kernelspec": {
   "display_name": "Python 3",
   "language": "python",
   "name": "python3"
  },
  "language_info": {
   "codemirror_mode": {
    "name": "ipython",
    "version": 3
   },
   "file_extension": ".py",
   "mimetype": "text/x-python",
   "name": "python",
   "nbconvert_exporter": "python",
   "pygments_lexer": "ipython3",
   "version": "3.5.2"
  }
 },
 "nbformat": 4,
 "nbformat_minor": 2
}
